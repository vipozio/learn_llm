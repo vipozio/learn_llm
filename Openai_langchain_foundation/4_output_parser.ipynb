{
 "cells": [
  {
   "cell_type": "markdown",
   "id": "4f14e061-ef84-4694-8910-335ba04e9454",
   "metadata": {},
   "source": [
    "### String output parser"
   ]
  },
  {
   "cell_type": "code",
   "execution_count": 29,
   "id": "2e3931b9-f2e7-4502-b921-5dd9e197cb0b",
   "metadata": {},
   "outputs": [],
   "source": [
    "from langchain_openai.chat_models import ChatOpenAI\n",
    "from langchain_core.messages import HumanMessage\n",
    "from langchain_core.output_parsers import StrOutputParser\n",
    "\n",
    "from dotenv import load_dotenv"
   ]
  },
  {
   "cell_type": "code",
   "execution_count": 4,
   "id": "26acbfe8-0474-4d79-acdc-2a761b6fbe34",
   "metadata": {},
   "outputs": [
    {
     "data": {
      "text/plain": [
       "True"
      ]
     },
     "execution_count": 4,
     "metadata": {},
     "output_type": "execute_result"
    }
   ],
   "source": [
    "#initializing env variable\n",
    "load_dotenv(dotenv_path='D:\\Project\\.env.txt')"
   ]
  },
  {
   "cell_type": "code",
   "execution_count": 5,
   "id": "61af44ac-8b07-433a-8abb-44d44401548d",
   "metadata": {},
   "outputs": [
    {
     "name": "stderr",
     "output_type": "stream",
     "text": [
      "D:\\Software\\Anaconda\\envs\\langchain_env\\lib\\site-packages\\IPython\\core\\interactiveshell.py:3517: UserWarning: Parameters {'seed'} should be specified explicitly. Instead they were passed in as part of `model_kwargs` parameter.\n",
      "  if await self.run_code(code, result, async_=asy):\n"
     ]
    }
   ],
   "source": [
    "chat=ChatOpenAI(model_name='gpt-4',model_kwargs={'seed':365},temperature=0,max_tokens=100)"
   ]
  },
  {
   "cell_type": "code",
   "execution_count": 6,
   "id": "9f761d3f-0b1d-481a-bbb5-5be26961aa41",
   "metadata": {},
   "outputs": [],
   "source": [
    "message_h=HumanMessage(content=\"Can you tell me about something that i probably don't know about\")"
   ]
  },
  {
   "cell_type": "code",
   "execution_count": 8,
   "id": "5e86a3d4-712a-409f-a559-a329fc185ab9",
   "metadata": {},
   "outputs": [],
   "source": [
    "response=chat.invoke([message_h])"
   ]
  },
  {
   "cell_type": "code",
   "execution_count": 10,
   "id": "f4ce65ef-0774-47e2-90eb-4a03f388582d",
   "metadata": {},
   "outputs": [
    {
     "data": {
      "text/plain": [
       "\"Sure, did you know that octopuses have three hearts? Two pump blood to the gills, while the third pumps it to the rest of the body. Additionally, the color of their blood is blue due to a copper-based protein called hemocyanin. Unlike humans who have iron-based hemoglobin, which makes our blood red, octopuses' hemocyanin is more efficient at transporting oxygen in cold, low-oxygen environments.\""
      ]
     },
     "execution_count": 10,
     "metadata": {},
     "output_type": "execute_result"
    }
   ],
   "source": [
    "str_output_parser=StrOutputParser()\n",
    "response_parsed=str_output_parser.invoke(response)\n",
    "response_parsed"
   ]
  },
  {
   "cell_type": "markdown",
   "id": "0d11b40a-9291-43ba-80f4-ef51e26089a8",
   "metadata": {},
   "source": [
    "### comma separated list output parser"
   ]
  },
  {
   "cell_type": "code",
   "execution_count": 11,
   "id": "8b167c67-746b-4473-948f-20ad674b53ba",
   "metadata": {},
   "outputs": [],
   "source": [
    "from langchain_core.output_parsers import CommaSeparatedListOutputParser"
   ]
  },
  {
   "cell_type": "code",
   "execution_count": 13,
   "id": "6a4cf9f6-5dc1-4c3b-80e3-7b3279130c2c",
   "metadata": {},
   "outputs": [],
   "source": [
    "message_h=HumanMessage(content=\"Can you suggest some dog names?\")"
   ]
  },
  {
   "cell_type": "code",
   "execution_count": 15,
   "id": "ad9e52a8-4e03-4eef-b3e5-6eb03e83b871",
   "metadata": {},
   "outputs": [],
   "source": [
    "response=chat.invoke([message_h])"
   ]
  },
  {
   "cell_type": "code",
   "execution_count": 17,
   "id": "526e0727-90cf-49c4-88a1-885b0c7dc21f",
   "metadata": {},
   "outputs": [],
   "source": [
    "list_output_parser=CommaSeparatedListOutputParser()\n",
    "response_parsed=list_output_parser.invoke(response)"
   ]
  },
  {
   "cell_type": "code",
   "execution_count": 18,
   "id": "6871d3c3-4bd0-4f62-81b7-79222d0f6efc",
   "metadata": {},
   "outputs": [
    {
     "data": {
      "text/plain": [
       "['1. Bella',\n",
       " '2. Max',\n",
       " '3. Charlie',\n",
       " '4. Daisy',\n",
       " '4. Buddy',\n",
       " '5. Lucy',\n",
       " '6. Cooper',\n",
       " '7. Lola',\n",
       " '8. Rocky',\n",
       " '9. Molly',\n",
       " '10. Zeus',\n",
       " '11. Sadie',\n",
       " '12. Duke',\n",
       " '13. Bailey',\n",
       " '14. Luna',\n",
       " '15. Toby',\n",
       " '16. Stella',\n",
       " '17. Jack',\n",
       " '18. Roxy',\n",
       " '19. Oliver',\n",
       " '20. Ruby',\n",
       " '21. Riley',\n",
       " '22. Coco',\n",
       " '23. Bear',\n",
       " '24.']"
      ]
     },
     "execution_count": 18,
     "metadata": {},
     "output_type": "execute_result"
    }
   ],
   "source": [
    "response_parsed"
   ]
  },
  {
   "cell_type": "code",
   "execution_count": 19,
   "id": "41896bc9-d75f-46e5-bf24-864d67955c4b",
   "metadata": {},
   "outputs": [],
   "source": [
    "#not expected result\n",
    "message_h=HumanMessage(content=f\"Can you suggest some dog names? {CommaSeparatedListOutputParser().get_format_instructions()}\")"
   ]
  },
  {
   "cell_type": "code",
   "execution_count": 20,
   "id": "1778224d-faff-4ffb-b557-fb89ea1172e5",
   "metadata": {},
   "outputs": [],
   "source": [
    "response=chat.invoke([message_h])"
   ]
  },
  {
   "cell_type": "code",
   "execution_count": 22,
   "id": "54eef350-9706-47c5-8ae8-4204fae3d393",
   "metadata": {},
   "outputs": [
    {
     "data": {
      "text/plain": [
       "['Max',\n",
       " 'Bella',\n",
       " 'Charlie',\n",
       " 'Lucy',\n",
       " 'Cooper',\n",
       " 'Daisy',\n",
       " 'Buddy',\n",
       " 'Lola',\n",
       " 'Rocky',\n",
       " 'Sadie',\n",
       " 'Zeus',\n",
       " 'Molly',\n",
       " 'Jack',\n",
       " 'Bailey',\n",
       " 'Toby',\n",
       " 'Stella',\n",
       " 'Duke',\n",
       " 'Roxy',\n",
       " 'Oliver',\n",
       " 'Luna']"
      ]
     },
     "execution_count": 22,
     "metadata": {},
     "output_type": "execute_result"
    }
   ],
   "source": [
    "response_parsed=list_output_parser.invoke(response)\n",
    "response_parsed"
   ]
  },
  {
   "cell_type": "markdown",
   "id": "ca3b3886-87b6-4ea7-a46b-f0f8f42a9e85",
   "metadata": {},
   "source": [
    "### Datetime Output Parser"
   ]
  },
  {
   "cell_type": "code",
   "execution_count": 28,
   "id": "311b2523-4c94-48ea-bda8-adad5ddad761",
   "metadata": {},
   "outputs": [],
   "source": [
    "from langchain.output_parsers import DatetimeOutputParser"
   ]
  },
  {
   "cell_type": "code",
   "execution_count": 33,
   "id": "a7472ba4-d459-48a4-9bd3-76db41e83cbe",
   "metadata": {},
   "outputs": [],
   "source": [
    "message_h=HumanMessage(content=f\"When did world war 2 ended? {DatetimeOutputParser().get_format_instructions()}\")\n",
    "response=chat.invoke([message_h])"
   ]
  },
  {
   "cell_type": "code",
   "execution_count": 34,
   "id": "915c35c9-8419-46a6-bc14-5f063b81c3b1",
   "metadata": {},
   "outputs": [
    {
     "data": {
      "text/plain": [
       "AIMessage(content='1945-09-02T00:00:00.000000Z', additional_kwargs={'refusal': None}, response_metadata={'token_usage': {'completion_tokens': 16, 'prompt_tokens': 105, 'total_tokens': 121, 'completion_tokens_details': {'accepted_prediction_tokens': 0, 'audio_tokens': 0, 'reasoning_tokens': 0, 'rejected_prediction_tokens': 0}, 'prompt_tokens_details': {'audio_tokens': 0, 'cached_tokens': 0}}, 'model_name': 'gpt-4-0613', 'system_fingerprint': None, 'finish_reason': 'stop', 'logprobs': None}, id='run-83fb3c07-664b-468f-b950-f1ae19dc1ef0-0', usage_metadata={'input_tokens': 105, 'output_tokens': 16, 'total_tokens': 121, 'input_token_details': {'audio': 0, 'cache_read': 0}, 'output_token_details': {'audio': 0, 'reasoning': 0}})"
      ]
     },
     "execution_count": 34,
     "metadata": {},
     "output_type": "execute_result"
    }
   ],
   "source": [
    "response"
   ]
  },
  {
   "cell_type": "code",
   "execution_count": 35,
   "id": "cf4fcde9-678a-4d5b-861e-e3f20db088b5",
   "metadata": {},
   "outputs": [],
   "source": [
    "date_output_parser=DatetimeOutputParser()"
   ]
  },
  {
   "cell_type": "code",
   "execution_count": 37,
   "id": "0a8ecc87-c24a-4e87-a12f-d53d90adb204",
   "metadata": {},
   "outputs": [],
   "source": [
    "response_Date=date_output_parser.invoke(response)"
   ]
  },
  {
   "cell_type": "code",
   "execution_count": 38,
   "id": "d64ff6f8-2ef7-4569-a269-612a3648e71c",
   "metadata": {},
   "outputs": [
    {
     "data": {
      "text/plain": [
       "datetime.datetime(1945, 9, 2, 0, 0)"
      ]
     },
     "execution_count": 38,
     "metadata": {},
     "output_type": "execute_result"
    }
   ],
   "source": [
    "response_Date"
   ]
  },
  {
   "cell_type": "code",
   "execution_count": null,
   "id": "6dabdc5d-319c-4ce7-a50e-997058802bb4",
   "metadata": {},
   "outputs": [],
   "source": []
  },
  {
   "cell_type": "code",
   "execution_count": null,
   "id": "6bab7af2-a94c-4010-95bf-b29a89c3d4d4",
   "metadata": {},
   "outputs": [],
   "source": []
  },
  {
   "cell_type": "code",
   "execution_count": null,
   "id": "fbd36cbf-1655-418b-a2fd-4775b667ae0e",
   "metadata": {},
   "outputs": [],
   "source": []
  }
 ],
 "metadata": {
  "kernelspec": {
   "display_name": "langchain_env",
   "language": "python",
   "name": "langchain_env"
  },
  "language_info": {
   "codemirror_mode": {
    "name": "ipython",
    "version": 3
   },
   "file_extension": ".py",
   "mimetype": "text/x-python",
   "name": "python",
   "nbconvert_exporter": "python",
   "pygments_lexer": "ipython3",
   "version": "3.10.10"
  }
 },
 "nbformat": 4,
 "nbformat_minor": 5
}
