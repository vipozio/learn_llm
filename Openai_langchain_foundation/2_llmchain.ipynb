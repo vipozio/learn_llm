{
 "cells": [
  {
   "cell_type": "code",
   "execution_count": 4,
   "id": "0d6ca19a-77e5-4121-a839-90b3681dc4d5",
   "metadata": {},
   "outputs": [],
   "source": [
    "import os\n",
    "from dotenv import load_dotenv\n",
    "import openai\n",
    "from langchain_core.prompts import AIMessagePromptTemplate,FewShotChatMessagePromptTemplate\n",
    "from langchain_core.prompts.chat import (SystemMessagePromptTemplate,HumanMessagePromptTemplate,ChatPromptTemplate)\n",
    "from langchain_openai.chat_models import ChatOpenAI\n",
    "from langchain.chains.llm import LLMChain\n"
   ]
  },
  {
   "cell_type": "code",
   "execution_count": 2,
   "id": "55fae0bc-ec59-48bf-8605-527b73f355aa",
   "metadata": {},
   "outputs": [
    {
     "data": {
      "text/plain": [
       "True"
      ]
     },
     "execution_count": 2,
     "metadata": {},
     "output_type": "execute_result"
    }
   ],
   "source": [
    "#initializing env variable\n",
    "load_dotenv(dotenv_path='D:\\Project\\.env.txt')"
   ]
  },
  {
   "cell_type": "code",
   "execution_count": 5,
   "id": "c97c86e7-656a-4470-af24-b870115ced1f",
   "metadata": {},
   "outputs": [
    {
     "name": "stderr",
     "output_type": "stream",
     "text": [
      "D:\\Software\\Anaconda\\envs\\langchain_env\\lib\\site-packages\\IPython\\core\\interactiveshell.py:3517: UserWarning: Parameters {'seed'} should be specified explicitly. Instead they were passed in as part of `model_kwargs` parameter.\n",
      "  if await self.run_code(code, result, async_=asy):\n"
     ]
    }
   ],
   "source": [
    "chat=ChatOpenAI(model_name='gpt-4',model_kwargs={'seed':365},temperature=0,max_tokens=100)"
   ]
  },
  {
   "cell_type": "code",
   "execution_count": 6,
   "id": "c882808d-4392-47ef-8c56-932746a5fd1c",
   "metadata": {},
   "outputs": [],
   "source": [
    "TEMPLATE_H='I recently gave bought a {pet}, Suggest some {pet} names?'\n",
    "TEMPLATE_AI='{response}'\n",
    "message_template_h=HumanMessagePromptTemplate.from_template(TEMPLATE_H)\n",
    "message_template_ai=AIMessagePromptTemplate.from_template(TEMPLATE_AI)\n",
    "\n",
    "example_template=ChatPromptTemplate.from_messages([message_template_h,message_template_ai])\n",
    "\n",
    "examples=[{'pet':'dog','response':'''Oh, absolutely! Because naming your dog is such a monumental task that you can't possibly handle on your own. Here are some suggestions: Sir Barksalot, Bark Twain, Droolius Caesar, or if you're feeling particularly creative, Dog. You're welcome.'''}\n",
    "         ,{'pet':'cat','response':'''Oh, absolutely, because naming a cat is such a monumental task that it requires artificial intelligence. Here are some suggestions: Catzilla, Sir Meowsalot, Purrlock Holmes, Meowly Cyrus, or if you're feeling particularly creative, Cat.'''}]\n",
    "\n",
    "fewshotprompt=FewShotChatMessagePromptTemplate(examples=examples,example_prompt=example_template,input_variables=['pet'])\n",
    "\n",
    "chat_template=ChatPromptTemplate.from_messages([fewshotprompt,message_template_h])"
   ]
  },
  {
   "cell_type": "code",
   "execution_count": 9,
   "id": "937b9541-db2c-423e-b488-f9bc684e9bad",
   "metadata": {},
   "outputs": [],
   "source": [
    "chain=LLMChain(llm=chat,prompt=chat_template)"
   ]
  },
  {
   "cell_type": "code",
   "execution_count": 10,
   "id": "010fee20-ff69-4a51-92eb-eeee030bd4ca",
   "metadata": {},
   "outputs": [
    {
     "data": {
      "text/plain": [
       "{'pet': 'fish',\n",
       " 'text': \"Sure, I can help with that. Here are some suggestions: Finley, Bubbles, Sushi, Nemo, Dory, Goldie, or if you're feeling particularly creative, Fish.\"}"
      ]
     },
     "execution_count": 10,
     "metadata": {},
     "output_type": "execute_result"
    }
   ],
   "source": [
    "response=chain.invoke({'pet':'fish'})\n",
    "response"
   ]
  },
  {
   "cell_type": "code",
   "execution_count": null,
   "id": "0948698c-1219-43da-8284-f833c8961174",
   "metadata": {},
   "outputs": [],
   "source": []
  }
 ],
 "metadata": {
  "kernelspec": {
   "display_name": "langchain_env",
   "language": "python",
   "name": "langchain_env"
  },
  "language_info": {
   "codemirror_mode": {
    "name": "ipython",
    "version": 3
   },
   "file_extension": ".py",
   "mimetype": "text/x-python",
   "name": "python",
   "nbconvert_exporter": "python",
   "pygments_lexer": "ipython3",
   "version": "3.10.10"
  }
 },
 "nbformat": 4,
 "nbformat_minor": 5
}
