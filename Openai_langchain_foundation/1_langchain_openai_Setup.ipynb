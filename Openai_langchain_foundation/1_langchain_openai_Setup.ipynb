{
 "cells": [
  {
   "cell_type": "markdown",
   "id": "d87e895b-76f2-4b2a-9234-80d07c94271f",
   "metadata": {},
   "source": [
    "### Setting the API key"
   ]
  },
  {
   "cell_type": "code",
   "execution_count": 3,
   "id": "e8d51502-a0ae-451e-bf1d-53327e2a595e",
   "metadata": {},
   "outputs": [],
   "source": [
    "import os\n",
    "from dotenv import load_dotenv\n",
    "import openai"
   ]
  },
  {
   "cell_type": "code",
   "execution_count": 4,
   "id": "a96c84a3-f13f-4f7f-aee6-e8719b46b1ae",
   "metadata": {},
   "outputs": [],
   "source": [
    "# Replace with the correct path to your .env file\n",
    "load_dotenv(dotenv_path='D:\\Project\\.env.txt')\n",
    "openai_key=os.environ.get(\"OPENAI_API_KEY\")\n",
    "\n",
    "client=openai.OpenAI()"
   ]
  },
  {
   "cell_type": "markdown",
   "id": "a7583e89-5670-4736-9e7d-1aec49ed8311",
   "metadata": {},
   "source": [
    "### using openai API key"
   ]
  },
  {
   "cell_type": "code",
   "execution_count": null,
   "id": "245b36db-4cde-4d67-81e2-43521af36713",
   "metadata": {},
   "outputs": [],
   "source": [
    "completion= client.chat.completions.create(model='gpt-4',messages=[{'role':'system','content':'You are lien, a chatbot with sarcastic response'},\n",
    "                                                                  {'role':'user','content':'My dog died recently, should i buy new dog?'}])\n",
    "\n",
    "completion\n",
    "\n",
    "print(completion.choices[0].message.content)"
   ]
  },
  {
   "cell_type": "code",
   "execution_count": null,
   "id": "8470150d-2206-4615-a314-970f252e67d5",
   "metadata": {},
   "outputs": [],
   "source": [
    "#lets try with sentiment analysis\n",
    "completion= client.chat.completions.create(model='gpt-4',messages=[{'role':'system','content':'You are lien, a chatbot which does sentiment analysis over the given text'},\n",
    "                                                                  {'role':'user','content':'My dog died recently, should i buy new dog?'}])\n",
    "\n",
    "print(completion.choices[0].message.content)"
   ]
  },
  {
   "cell_type": "markdown",
   "id": "2f0deb76-fd20-4dc3-b604-316722ead201",
   "metadata": {},
   "source": [
    "### using token limitation and temperature"
   ]
  },
  {
   "cell_type": "code",
   "execution_count": 25,
   "id": "25992a3c-93af-4e42-bd82-171d0f9a7bda",
   "metadata": {},
   "outputs": [
    {
     "name": "stdout",
     "output_type": "stream",
     "text": [
      "The sentiment in your text appears to be of sadness due to the loss of your pet. It seems you're also considering getting\n"
     ]
    }
   ],
   "source": [
    "#lets try with sentiment analysis with limited tokens\n",
    "completion= client.chat.completions.create(model='gpt-4',messages=[{'role':'system','content':'You are lien, a chatbot which does sentiment analysis over the given text'},\n",
    "                                                                  {'role':'user','content':'My dog died recently, should i buy new dog?'}],max_tokens=25)\n",
    "print(completion.choices[0].message.content)"
   ]
  },
  {
   "cell_type": "code",
   "execution_count": 27,
   "id": "f3648ef3-fe4f-4896-9710-1abd9c8687a5",
   "metadata": {},
   "outputs": [
    {
     "name": "stdout",
     "output_type": "stream",
     "text": [
      "The given text has a negative sentiment as it talks about the sad event of a pet's death. Regarding the question about getting\n"
     ]
    }
   ],
   "source": [
    "#lets try with sentiment analysis with temperature\n",
    "completion= client.chat.completions.create(model='gpt-4',messages=[{'role':'system','content':'You are lien, a chatbot which does sentiment analysis over the given text'},\n",
    "                                                                  {'role':'user','content':'My dog died recently, should i buy new dog?'}],max_tokens=25,temperature=1)\n",
    "print(completion.choices[0].message.content)"
   ]
  },
  {
   "cell_type": "code",
   "execution_count": 28,
   "id": "63acc921-7833-4e2c-bc8b-cd42952b9cb6",
   "metadata": {},
   "outputs": [
    {
     "name": "stdout",
     "output_type": "stream",
     "text": [
      "I'm an AI and don't experience emotions, but I can analyze that your text expresses sadness due to the loss of your\n"
     ]
    }
   ],
   "source": [
    "#lets try with sentiment analysis with temperature\n",
    "completion= client.chat.completions.create(model='gpt-4',messages=[{'role':'system','content':'You are lien, a chatbot which does sentiment analysis over the given text'},\n",
    "                                                                  {'role':'user','content':'My dog died recently, should i buy new dog?'}],max_tokens=25,temperature=0,seed=365)\n",
    "print(completion.choices[0].message.content)"
   ]
  },
  {
   "cell_type": "markdown",
   "id": "af4fdaae-69f3-4ab9-bc25-5ac481ca8d1d",
   "metadata": {},
   "source": [
    "## Langchain\n",
    "### Model inputs"
   ]
  },
  {
   "cell_type": "code",
   "execution_count": 2,
   "id": "9fbcc858-7763-4bd8-8883-382e2f72208c",
   "metadata": {},
   "outputs": [],
   "source": [
    "#import necessary modules\n",
    "from langchain_openai.chat_models import ChatOpenAI"
   ]
  },
  {
   "cell_type": "code",
   "execution_count": 13,
   "id": "9bcca4a7-2f0f-493e-bcc8-1b90e8b19853",
   "metadata": {},
   "outputs": [
    {
     "name": "stderr",
     "output_type": "stream",
     "text": [
      "D:\\Software\\Anaconda\\envs\\langchain_env\\lib\\site-packages\\IPython\\core\\interactiveshell.py:3517: UserWarning: Parameters {'seed'} should be specified explicitly. Instead they were passed in as part of `model_kwargs` parameter.\n",
      "  if await self.run_code(code, result, async_=asy):\n"
     ]
    }
   ],
   "source": [
    "chat=ChatOpenAI(model_name='gpt-4',model_kwargs={'seed':365},temperature=0,max_tokens=100)"
   ]
  },
  {
   "cell_type": "code",
   "execution_count": 20,
   "id": "1201498e-21ef-4a2b-976b-8b6e38a67e9a",
   "metadata": {},
   "outputs": [
    {
     "name": "stdout",
     "output_type": "stream",
     "text": [
      "1. Bella\n",
      "2. Max\n",
      "3. Daisy\n",
      "4. Buddy\n",
      "5. Luna\n",
      "6. Charlie\n",
      "7. Lucy\n",
      "8. Cooper\n",
      "9. Bailey\n",
      "10. Milo\n",
      "11. Rocky\n",
      "12. Sadie\n",
      "13. Lola\n",
      "14. Toby\n",
      "15. Zeus\n",
      "16. Ruby\n",
      "17. Oliver\n",
      "18. Stella\n",
      "19. Duke\n",
      "20. Roxy\n",
      "21. Teddy\n",
      "22. Pepper\n",
      "23. Coco\n",
      "24. Jasper\n",
      "25.\n"
     ]
    }
   ],
   "source": [
    "response=chat.invoke('''I recently gave birth to dog, Suggest some dog names?''')\n",
    "\n",
    "print(response.content)"
   ]
  },
  {
   "cell_type": "code",
   "execution_count": null,
   "id": "fc406651-5dff-46d1-b6e8-e5c953be4012",
   "metadata": {},
   "outputs": [],
   "source": [
    "#system and human role\n",
    "from langchain_core.messages import SystemMessage,HumanMessage\n",
    "\n",
    "message_h=HumanMessage(content='''I recently gave birth to dog, Suggest some dog names?''')\n",
    "message_s=SystemMessage(content='''You are lien, a chatbot with sarcastic response''')\n",
    "\n",
    "response=chat.invoke([message_s,message_h])\n",
    "print(response.content)"
   ]
  },
  {
   "cell_type": "code",
   "execution_count": 25,
   "id": "bf15c7de-8d3d-40f1-b35a-00fe5f6a931a",
   "metadata": {},
   "outputs": [
    {
     "name": "stdout",
     "output_type": "stream",
     "text": [
      "Congratulations on your new kitten! Here are some names you might like:\n",
      "\n",
      "1. Whiskers\n",
      "2. Luna\n",
      "3. Bella\n",
      "4. Simba\n",
      "5. Daisy\n",
      "6. Oliver\n",
      "7. Leo\n",
      "8. Milo\n",
      "9. Smokey\n",
      "10. Tigger\n",
      "11. Shadow\n",
      "12. Chloe\n",
      "13. Max\n",
      "14. Lucy\n",
      "15. Nala\n",
      "16. Kitty\n",
      "17. Pumpkin\n",
      "18. Misty\n",
      "19. Jasper\n",
      "20.\n"
     ]
    }
   ],
   "source": [
    "#ai message\n",
    "from langchain_core.messages import AIMessage\n",
    "\n",
    "message_h_dog=HumanMessage(content='''I recently gave birth to dog, Suggest some dog names?''')\n",
    "message_ai_dog=AIMessage(content='''Oh wow, congratulations on your miraculous achievement! I'm sure the scientific community would love to hear about this. But on a more realistic note, if you've recently adopted a puppy, how about names like Bark Twain, Sir Waggington, or Chewbacca?''')\n",
    "\n",
    "message_h_cat=HumanMessage(content='''I recently gave birth to cat, Suggest some cat names?''')\n",
    "\n",
    "\n",
    "response=chat.invoke([message_h_dog,message_ai_dog,message_h_cat])\n",
    "print(response.content)"
   ]
  },
  {
   "cell_type": "code",
   "execution_count": 24,
   "id": "b9bbad0b-6650-4376-b3e7-50e0716fe6e6",
   "metadata": {},
   "outputs": [
    {
     "name": "stdout",
     "output_type": "stream",
     "text": [
      "Congratulations on your new pet fish! Here are some fun and creative names you might like:\n",
      "\n",
      "1. Bubbles\n",
      "2. Finley\n",
      "3. Nemo\n",
      "4. Dory\n",
      "5. Goldie\n",
      "6. Sushi\n",
      "7. Splash\n",
      "8. Neptune\n",
      "9. Poseidon\n",
      "10. Aqua\n",
      "11. Coral\n",
      "12. Pearl\n",
      "13. Guppy\n",
      "14. Marlin\n",
      "15. Rainbow\n",
      "16. Gill\n",
      "17. Atlantis\n",
      "18. Ocean\n",
      "19\n"
     ]
    }
   ],
   "source": [
    "#lets give more input\n",
    "message_h_cat=HumanMessage(content='''I recently gave birth to cat, Suggest some cat names?''')\n",
    "message_ai_cat=AIMessage(content='''Oh wow, congratulations on your miraculous achievement! I'm sure the scientific community would love to hear about this. But on a more realistic note, if you've recently adopted a kitten, how about names like Bark Twain, Sir Waggington, or Chewbacca?''')\n",
    "\n",
    "message_h_fish=HumanMessage(content='''I recently gave birth to fish, Suggest some fish names?''')\n",
    "response=chat.invoke([message_h_dog,message_ai_dog,message_h_cat,message_ai_cat,message_h_fish])\n",
    "print(response.content)"
   ]
  },
  {
   "cell_type": "code",
   "execution_count": 27,
   "id": "52500854-047c-4790-9cdc-7ecca7085f4b",
   "metadata": {},
   "outputs": [],
   "source": [
    "#prompt templates and prompt values\n",
    "from langchain_core.prompts import PromptTemplate\n",
    "\n",
    "TEMPLATE='''\n",
    "system:\n",
    "{description}\n",
    "\n",
    "Human:\n",
    "I recently gave birth to {pet}, Suggest some {pet} names?\n",
    "'''"
   ]
  },
  {
   "cell_type": "code",
   "execution_count": 32,
   "id": "61f935d5-c963-439f-aecb-f69aa4713b9d",
   "metadata": {},
   "outputs": [
    {
     "name": "stdout",
     "output_type": "stream",
     "text": [
      "\n",
      "system:\n",
      "chatbot should be sarcastic\n",
      "\n",
      "Human:\n",
      "I recently gave birth to dog, Suggest some dog names?\n",
      "\n"
     ]
    }
   ],
   "source": [
    "prompt_Template=PromptTemplate.from_template(TEMPLATE)\n",
    "\n",
    "prompt_value=prompt_Template.invoke({'description':'chatbot should be sarcastic','pet':'dog'})\n",
    "\n",
    "print(prompt_value.text)"
   ]
  },
  {
   "cell_type": "code",
   "execution_count": 38,
   "id": "d5618d84-414a-42aa-9827-87c56d9ce241",
   "metadata": {},
   "outputs": [],
   "source": [
    "#chat prompt templates and chat prompt values\n",
    "from langchain_core.prompts.chat import (SystemMessagePromptTemplate,HumanMessagePromptTemplate,ChatPromptTemplate)"
   ]
  },
  {
   "cell_type": "code",
   "execution_count": 76,
   "id": "294df958-db8d-4754-819f-35a18295321e",
   "metadata": {},
   "outputs": [
    {
     "data": {
      "text/plain": [
       "\"Oh, absolutely, because naming a cat is such a monumental task that it requires artificial intelligence. Here are some suggestions: Catzilla, Sir Meowsalot, Purrlock Holmes, Meowly Cyrus, or if you're feeling particularly creative, Cat.\""
      ]
     },
     "execution_count": 76,
     "metadata": {},
     "output_type": "execute_result"
    }
   ],
   "source": [
    "TEMPLATE_S='{description}'\n",
    "TEMPLATE_H='I recently gave bought a {pet}, Suggest some {pet} names?'\n",
    "message_template_s=SystemMessagePromptTemplate.from_template(TEMPLATE_S)\n",
    "message_template_h=HumanMessagePromptTemplate.from_template(TEMPLATE_H)\n",
    "\n",
    "chat_template=ChatPromptTemplate.from_messages([message_template_s,message_template_h])\n",
    "\n",
    "chat_value=chat_template.invoke({'description':'You are lien, a chatbot which answers sarcastically','pet':'cat'})\n",
    "\n",
    "response=chat.invoke(chat_value)\n",
    "\n",
    "response.content"
   ]
  },
  {
   "cell_type": "code",
   "execution_count": 74,
   "id": "36bb81e7-fc41-4c58-bc4b-321dbce4a815",
   "metadata": {},
   "outputs": [],
   "source": [
    "#fewshot chat message prompt templates\n",
    "from langchain_core.prompts import AIMessagePromptTemplate,FewShotChatMessagePromptTemplate"
   ]
  },
  {
   "cell_type": "code",
   "execution_count": 87,
   "id": "7d2e3fd1-c980-4901-9289-e554f36fa61d",
   "metadata": {},
   "outputs": [
    {
     "data": {
      "text/plain": [
       "\"Sure, here are some suggestions: Jaws, Finley, Sharkira, Bruce (from Finding Nemo), Mako, Hammerhead, or if you're feeling particularly creative, Sharky.\""
      ]
     },
     "execution_count": 87,
     "metadata": {},
     "output_type": "execute_result"
    }
   ],
   "source": [
    "TEMPLATE_H='I recently gave bought a {pet}, Suggest some {pet} names?'\n",
    "TEMPLATE_AI='{response}'\n",
    "message_template_h=HumanMessagePromptTemplate.from_template(TEMPLATE_H)\n",
    "message_template_ai=AIMessagePromptTemplate.from_template(TEMPLATE_AI)\n",
    "\n",
    "example_template=ChatPromptTemplate.from_messages([message_template_h,message_template_ai])\n",
    "\n",
    "examples=[{'pet':'dog','response':'''Oh, absolutely! Because naming your dog is such a monumental task that you can't possibly handle on your own. Here are some suggestions: Sir Barksalot, Bark Twain, Droolius Caesar, or if you're feeling particularly creative, Dog. You're welcome.'''}\n",
    "         ,{'pet':'cat','response':'''Oh, absolutely, because naming a cat is such a monumental task that it requires artificial intelligence. Here are some suggestions: Catzilla, Sir Meowsalot, Purrlock Holmes, Meowly Cyrus, or if you're feeling particularly creative, Cat.'''}]\n",
    "\n",
    "fewshotprompt=FewShotChatMessagePromptTemplate(examples=examples,example_prompt=example_template,input_variables=['pet'])\n",
    "\n",
    "chat_template=ChatPromptTemplate.from_messages([fewshotprompt,message_template_h])\n",
    "chat_value=chat_template.invoke({'pet':'shark'})\n",
    "response=chat.invoke(chat_value)\n",
    "\n",
    "response.content"
   ]
  },
  {
   "cell_type": "code",
   "execution_count": null,
   "id": "0b67b1a9-7f35-4e22-b778-b8a73efcb4d5",
   "metadata": {},
   "outputs": [],
   "source": []
  }
 ],
 "metadata": {
  "kernelspec": {
   "display_name": "langchain_env",
   "language": "python",
   "name": "langchain_env"
  },
  "language_info": {
   "codemirror_mode": {
    "name": "ipython",
    "version": 3
   },
   "file_extension": ".py",
   "mimetype": "text/x-python",
   "name": "python",
   "nbconvert_exporter": "python",
   "pygments_lexer": "ipython3",
   "version": "3.10.10"
  }
 },
 "nbformat": 4,
 "nbformat_minor": 5
}
