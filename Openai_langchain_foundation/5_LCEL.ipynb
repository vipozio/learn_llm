{
 "cells": [
  {
   "cell_type": "markdown",
   "id": "ead8230f-6d20-4239-ba84-9481b9e62322",
   "metadata": {},
   "source": [
    "### LCEL -LangChain Expression Language"
   ]
  },
  {
   "cell_type": "code",
   "execution_count": 1,
   "id": "fdea6338-1610-4509-aa5c-2175ab19a27e",
   "metadata": {},
   "outputs": [],
   "source": [
    "from dotenv import load_dotenv\n",
    "from langchain_openai import ChatOpenAI\n",
    "from langchain_core.prompts import ChatPromptTemplate\n",
    "from langchain_core.output_parsers import CommaSeparatedListOutputParser"
   ]
  },
  {
   "cell_type": "code",
   "execution_count": 2,
   "id": "acdc6342-da0f-4cdb-9bd2-85ee97df8ea0",
   "metadata": {},
   "outputs": [
    {
     "data": {
      "text/plain": [
       "True"
      ]
     },
     "execution_count": 2,
     "metadata": {},
     "output_type": "execute_result"
    }
   ],
   "source": [
    "#initializing env variable\n",
    "load_dotenv(dotenv_path='D:\\Project\\.env.txt')"
   ]
  },
  {
   "cell_type": "markdown",
   "id": "2f9b5639-6852-44cf-873f-7dd5bc2fc579",
   "metadata": {},
   "source": [
    "#### Piping prompt, Model and output parser"
   ]
  },
  {
   "cell_type": "code",
   "execution_count": 3,
   "id": "e5e0a897-ccb0-407e-b31d-327cfad7f626",
   "metadata": {},
   "outputs": [],
   "source": [
    "list_instructions= CommaSeparatedListOutputParser().get_format_instructions()"
   ]
  },
  {
   "cell_type": "code",
   "execution_count": 40,
   "id": "6649e83f-f8f8-4bf1-9f5b-83d278167932",
   "metadata": {},
   "outputs": [
    {
     "name": "stderr",
     "output_type": "stream",
     "text": [
      "D:\\Software\\Anaconda\\envs\\langchain_env\\lib\\site-packages\\IPython\\core\\interactiveshell.py:3517: UserWarning: Parameters {'seed'} should be specified explicitly. Instead they were passed in as part of `model_kwargs` parameter.\n",
      "  if await self.run_code(code, result, async_=asy):\n"
     ]
    }
   ],
   "source": [
    "chat=ChatOpenAI(model_name='gpt-4',model_kwargs={'seed':365},temperature=0,max_tokens=500)"
   ]
  },
  {
   "cell_type": "code",
   "execution_count": 5,
   "id": "f72556e3-652b-4b9a-9575-563ba9bdb70d",
   "metadata": {},
   "outputs": [],
   "source": [
    "chat_template=ChatPromptTemplate.from_messages([\n",
    "                                ('human',\"Suggest me {pet} names?\\n\"+list_instructions)])"
   ]
  },
  {
   "cell_type": "code",
   "execution_count": 6,
   "id": "a7363d9e-8751-40b1-abe8-31553f31464c",
   "metadata": {},
   "outputs": [],
   "source": [
    "list_output_parser=CommaSeparatedListOutputParser()"
   ]
  },
  {
   "cell_type": "code",
   "execution_count": 7,
   "id": "e7b89dad-2116-4e81-8647-8b4a4f794622",
   "metadata": {},
   "outputs": [
    {
     "data": {
      "text/plain": [
       "['Max',\n",
       " 'Bella',\n",
       " 'Charlie',\n",
       " 'Lucy',\n",
       " 'Cooper',\n",
       " 'Daisy',\n",
       " 'Buddy',\n",
       " 'Lola',\n",
       " 'Rocky',\n",
       " 'Sadie',\n",
       " 'Zeus',\n",
       " 'Molly',\n",
       " 'Jack',\n",
       " 'Bailey',\n",
       " 'Toby',\n",
       " 'Stella',\n",
       " 'Duke',\n",
       " 'Roxy',\n",
       " 'Oliver',\n",
       " 'Luna']"
      ]
     },
     "execution_count": 7,
     "metadata": {},
     "output_type": "execute_result"
    }
   ],
   "source": [
    "#traditional method\n",
    "chat_template_result=chat_template.invoke({'pet':'dog'})\n",
    "chat_result=chat.invoke(chat_template_result)\n",
    "result=list_output_parser.invoke(chat_result)\n",
    "result"
   ]
  },
  {
   "cell_type": "code",
   "execution_count": 8,
   "id": "6e62eccc-8aa0-43e4-95d0-7326598d82fc",
   "metadata": {},
   "outputs": [
    {
     "data": {
      "text/plain": [
       "['Max',\n",
       " 'Bella',\n",
       " 'Charlie',\n",
       " 'Lucy',\n",
       " 'Cooper',\n",
       " 'Daisy',\n",
       " 'Buddy',\n",
       " 'Lola',\n",
       " 'Rocky',\n",
       " 'Sadie',\n",
       " 'Zeus',\n",
       " 'Molly',\n",
       " 'Jack',\n",
       " 'Bailey',\n",
       " 'Toby',\n",
       " 'Stella',\n",
       " 'Duke',\n",
       " 'Roxy',\n",
       " 'Oliver',\n",
       " 'Luna']"
      ]
     },
     "execution_count": 8,
     "metadata": {},
     "output_type": "execute_result"
    }
   ],
   "source": [
    "#LCEL\n",
    "chain=chat_template | chat| list_output_parser\n",
    "chain.invoke({'pet':'dog'})"
   ]
  },
  {
   "cell_type": "markdown",
   "id": "7567d317-5dd4-44cc-ba7a-1137f0c31af6",
   "metadata": {},
   "source": [
    "#### Batch"
   ]
  },
  {
   "cell_type": "code",
   "execution_count": 9,
   "id": "70fc9b5c-ee0e-447f-b281-0c06c0e70457",
   "metadata": {},
   "outputs": [],
   "source": [
    "chat_template=ChatPromptTemplate.from_messages([\n",
    "                                ('human',\"Suggest me how to train my {pet}?\\n\"+list_instructions)])"
   ]
  },
  {
   "cell_type": "code",
   "execution_count": 10,
   "id": "71001a88-7c98-483a-a61d-44e0102d87b7",
   "metadata": {},
   "outputs": [],
   "source": [
    "#LCEL\n",
    "chain=chat_template | chat"
   ]
  },
  {
   "cell_type": "code",
   "execution_count": 11,
   "id": "d2082abf-0cf5-4544-9df1-7f0f56239258",
   "metadata": {},
   "outputs": [
    {
     "data": {
      "text/plain": [
       "[AIMessage(content='Start with basic commands, Use positive reinforcement, Be consistent with commands, Train in various places, Use high-value treats, Keep training sessions short, Be patient, Avoid punishment, Socialize your dog, Gradually increase the difficulty level, Practice commands in different situations, Reward good behavior immediately, Use a leash during training, Keep training fun and engaging, Involve all family members in training, Hire a professional trainer if needed', additional_kwargs={'refusal': None}, response_metadata={'token_usage': {'completion_tokens': 84, 'prompt_tokens': 44, 'total_tokens': 128, 'completion_tokens_details': {'accepted_prediction_tokens': 0, 'audio_tokens': 0, 'reasoning_tokens': 0, 'rejected_prediction_tokens': 0}, 'prompt_tokens_details': {'audio_tokens': 0, 'cached_tokens': 0}}, 'model_name': 'gpt-4-0613', 'system_fingerprint': None, 'finish_reason': 'stop', 'logprobs': None}, id='run-5359b8ef-a200-49eb-9ca4-99b033c2cb76-0', usage_metadata={'input_tokens': 44, 'output_tokens': 84, 'total_tokens': 128, 'input_token_details': {'audio': 0, 'cache_read': 0}, 'output_token_details': {'audio': 0, 'reasoning': 0}}),\n",
       " AIMessage(content=\"Establish trust and bonding, Start with basic commands, Use positive reinforcement, Be consistent with training sessions, Gradually introduce more complex commands, Provide a balanced diet, Ensure regular exercise, Maintain a safe and comfortable environment, Regular health check-ups, Teach socialization skills, Use visual signals, Reward good behavior, Correct bad behavior immediately, Keep training sessions short and fun, Be patient and persistent, Avoid physical punishment, Understand your dragon's body language, Train in a distraction-free environment, Use a calm and\", additional_kwargs={'refusal': None}, response_metadata={'token_usage': {'completion_tokens': 100, 'prompt_tokens': 44, 'total_tokens': 144, 'completion_tokens_details': {'accepted_prediction_tokens': 0, 'audio_tokens': 0, 'reasoning_tokens': 0, 'rejected_prediction_tokens': 0}, 'prompt_tokens_details': {'audio_tokens': 0, 'cached_tokens': 0}}, 'model_name': 'gpt-4-0613', 'system_fingerprint': None, 'finish_reason': 'length', 'logprobs': None}, id='run-effc2266-689e-4d94-bed0-dd9d35c7ee2a-0', usage_metadata={'input_tokens': 44, 'output_tokens': 100, 'total_tokens': 144, 'input_token_details': {'audio': 0, 'cache_read': 0}, 'output_token_details': {'audio': 0, 'reasoning': 0}})]"
      ]
     },
     "execution_count": 11,
     "metadata": {},
     "output_type": "execute_result"
    }
   ],
   "source": [
    "#Batch\n",
    "chain.batch([{'pet':'dog'},{'pet':'dragon'}])"
   ]
  },
  {
   "cell_type": "markdown",
   "id": "fc993950-8eea-4982-be1a-1e11ba44dae0",
   "metadata": {},
   "source": [
    "#### Streaming"
   ]
  },
  {
   "cell_type": "code",
   "execution_count": 12,
   "id": "81e212c8-3c64-44ec-a95d-b5bdea8c222a",
   "metadata": {},
   "outputs": [],
   "source": [
    "#chain\n",
    "response=chain.stream([{'pet':'dog'},{'pet':'dragon'}])"
   ]
  },
  {
   "cell_type": "code",
   "execution_count": 13,
   "id": "4a27095f-6243-408c-ac5d-aeda9373de32",
   "metadata": {},
   "outputs": [
    {
     "name": "stdout",
     "output_type": "stream",
     "text": [
      "provide consistent rules, use positive reinforcement, start training at a young age, socialize your pets, use simple commands, reward good behavior, ignore bad behavior, provide mental stimulation, provide physical exercise, be patient, hire a professional trainer if needed, create a safe environment, use a leash for control, for the dragon - establish dominance, for the dragon - use fireproof equipment, for the dragon - train in a large, open space, for the dragon - ensure proper diet to maintain health and"
     ]
    }
   ],
   "source": [
    "for i in response:\n",
    "    print(i.content, end='')"
   ]
  },
  {
   "cell_type": "markdown",
   "id": "99d94932-52b5-4180-aee8-32f115868860",
   "metadata": {},
   "source": [
    "#### Runnable and RunnableSequence Classes"
   ]
  },
  {
   "cell_type": "code",
   "execution_count": 14,
   "id": "276fddc3-1129-4605-9890-bfb0d805c8bb",
   "metadata": {},
   "outputs": [],
   "source": [
    "chat_template=ChatPromptTemplate.from_messages([\n",
    "                                ('human',\"Suggest me how to train my {pet}?\\n\"+list_instructions)])\n",
    "\n",
    "chain=chat_template | chat"
   ]
  },
  {
   "cell_type": "code",
   "execution_count": 15,
   "id": "e3733792-ce4c-4e5a-ab15-9e01e75f94ac",
   "metadata": {},
   "outputs": [
    {
     "data": {
      "text/plain": [
       "langchain_core.runnables.base.RunnableSequence"
      ]
     },
     "execution_count": 15,
     "metadata": {},
     "output_type": "execute_result"
    }
   ],
   "source": [
    "#runnable sequence\n",
    "type(chain)"
   ]
  },
  {
   "cell_type": "markdown",
   "id": "e767d95a-f4bf-4da7-991b-40a3550aa4ae",
   "metadata": {},
   "source": [
    "#### Piping chains and RunnablePassThrough Class"
   ]
  },
  {
   "cell_type": "code",
   "execution_count": 16,
   "id": "7a82f2ab-ef7d-4a13-984c-8eb493e436f4",
   "metadata": {},
   "outputs": [],
   "source": [
    "from langchain_core.output_parsers import StrOutputParser\n",
    "from langchain_core.runnables import RunnablePassthrough"
   ]
  },
  {
   "cell_type": "code",
   "execution_count": 17,
   "id": "48731e88-d4a8-4d69-a1e7-a483d8c1ba6b",
   "metadata": {},
   "outputs": [
    {
     "data": {
      "text/plain": [
       "'hi'"
      ]
     },
     "execution_count": 17,
     "metadata": {},
     "output_type": "execute_result"
    }
   ],
   "source": [
    "RunnablePassthrough().invoke('hi')"
   ]
  },
  {
   "cell_type": "code",
   "execution_count": 18,
   "id": "ca8713df-b5b1-46a9-9b03-d9098904e47b",
   "metadata": {},
   "outputs": [
    {
     "data": {
      "text/plain": [
       "[1, 2, 3]"
      ]
     },
     "execution_count": 18,
     "metadata": {},
     "output_type": "execute_result"
    }
   ],
   "source": [
    "RunnablePassthrough().invoke([1,2,3])"
   ]
  },
  {
   "cell_type": "code",
   "execution_count": 19,
   "id": "3f89e5d6-4c63-4b6b-b74a-e10d930b257e",
   "metadata": {},
   "outputs": [],
   "source": [
    "chat_template_tools=ChatPromptTemplate.from_template('''\n",
    "What are the five tools a {job_title} needs?\n",
    "answer only by listing the tools.\n",
    "''')\n",
    "\n",
    "chat_Template_strategy=ChatPromptTemplate.from_template('''\n",
    "Consider the tools provided, develop a strategy for effectively learning and mastering them:\n",
    "{tools}\n",
    "''')"
   ]
  },
  {
   "cell_type": "code",
   "execution_count": 20,
   "id": "3783ac25-16a6-477e-a721-f1c15a27231d",
   "metadata": {},
   "outputs": [],
   "source": [
    "string_parser=StrOutputParser()"
   ]
  },
  {
   "cell_type": "code",
   "execution_count": 21,
   "id": "e02915c4-2397-4c79-ab11-0a41c9bb78d5",
   "metadata": {},
   "outputs": [],
   "source": [
    "chain_tools = chat_template_tools | chat | string_parser\n",
    "chain_strategy =chat_Template_strategy | chat | string_parser"
   ]
  },
  {
   "cell_type": "code",
   "execution_count": 22,
   "id": "28c850cd-ac92-4ccb-a5e5-248bfbb45bb9",
   "metadata": {},
   "outputs": [
    {
     "name": "stdout",
     "output_type": "stream",
     "text": [
      "1. Integrated Development Environment (IDE)\n",
      "2. Text Editor\n",
      "3. Python Libraries\n",
      "4. Debugging Tools\n",
      "5. Version Control System (VCS)\n"
     ]
    }
   ],
   "source": [
    "print(chain_tools.invoke({'job_title':'Python'}))"
   ]
  },
  {
   "cell_type": "code",
   "execution_count": 23,
   "id": "0971f3ee-73a9-4659-8f54-ef9a0d1a0274",
   "metadata": {},
   "outputs": [],
   "source": [
    "#chain_strategy needs dictionary to pass as input but we have generated string, lets now use RunnablePassthrough\n",
    "chain_tools = chat_template_tools | chat | string_parser | {'tools':RunnablePassthrough()}\n",
    "chain_strategy =chat_Template_strategy | chat | string_parser"
   ]
  },
  {
   "cell_type": "code",
   "execution_count": 24,
   "id": "db25356c-3e68-434c-9890-d1105fc9f357",
   "metadata": {},
   "outputs": [
    {
     "name": "stdout",
     "output_type": "stream",
     "text": [
      "{'tools': '1. Integrated Development Environment (IDE)\\n2. Text Editor\\n3. Python Libraries\\n4. Debugging Tools\\n5. Version Control System (like Git)'}\n"
     ]
    }
   ],
   "source": [
    "#great we are getting as dictionary\n",
    "print(chain_tools.invoke({'job_title':'Python'}))"
   ]
  },
  {
   "cell_type": "code",
   "execution_count": 25,
   "id": "48b56d1f-43a6-4e6e-aea3-34c84f9cc0e8",
   "metadata": {},
   "outputs": [],
   "source": [
    "chain_combined = chain_tools | chain_strategy"
   ]
  },
  {
   "cell_type": "code",
   "execution_count": 26,
   "id": "2ff1f230-9eb9-43a2-b3ca-78426c5d9c49",
   "metadata": {},
   "outputs": [
    {
     "name": "stdout",
     "output_type": "stream",
     "text": [
      "1. Integrated Development Environment (IDE): Start by understanding the basic functionalities of the IDE, such as creating a new project, writing and running code, and using the built-in terminal. Gradually move on to more advanced features like debugging, version control, and refactoring. Practice using the IDE by working on small projects. \n",
      "\n",
      "2. Text Editor: Familiarize yourself with the basic features of the text editor, such as creating, saving, and opening files. Learn about the different syntax highlighting\n"
     ]
    }
   ],
   "source": [
    "print(chain_combined.invoke({'job_title':'Python'}))"
   ]
  },
  {
   "cell_type": "markdown",
   "id": "059bd578-657f-4567-8b3a-a2e6caa444ca",
   "metadata": {},
   "source": [
    "#### Graphing runnables"
   ]
  },
  {
   "cell_type": "code",
   "execution_count": 27,
   "id": "a04ba736-07c5-42bf-ba33-461e1b561b89",
   "metadata": {},
   "outputs": [],
   "source": [
    "chain_long=(chat_template_tools | chat | string_parser | {'tools':RunnablePassthrough()}\n",
    "            | chat_Template_strategy | chat | string_parser)"
   ]
  },
  {
   "cell_type": "code",
   "execution_count": 30,
   "id": "4366622f-d223-4a10-8199-ed5679caefa6",
   "metadata": {},
   "outputs": [
    {
     "name": "stdout",
     "output_type": "stream",
     "text": [
      "     +-------------+       \n",
      "     | PromptInput |       \n",
      "     +-------------+       \n",
      "            *              \n",
      "            *              \n",
      "            *              \n",
      "  +--------------------+   \n",
      "  | ChatPromptTemplate |   \n",
      "  +--------------------+   \n",
      "            *              \n",
      "            *              \n",
      "            *              \n",
      "      +------------+       \n",
      "      | ChatOpenAI |       \n",
      "      +------------+       \n",
      "            *              \n",
      "            *              \n",
      "            *              \n",
      "   +-----------------+     \n",
      "   | StrOutputParser |     \n",
      "   +-----------------+     \n",
      "            *              \n",
      "            *              \n",
      "            *              \n",
      "+-----------------------+  \n",
      "| StrOutputParserOutput |  \n",
      "+-----------------------+  \n",
      "            *              \n",
      "            *              \n",
      "            *              \n",
      "     +-------------+       \n",
      "     | Passthrough |       \n",
      "     +-------------+       \n",
      "            *              \n",
      "            *              \n",
      "            *              \n",
      "  +--------------------+   \n",
      "  | ChatPromptTemplate |   \n",
      "  +--------------------+   \n",
      "            *              \n",
      "            *              \n",
      "            *              \n",
      "      +------------+       \n",
      "      | ChatOpenAI |       \n",
      "      +------------+       \n",
      "            *              \n",
      "            *              \n",
      "            *              \n",
      "   +-----------------+     \n",
      "   | StrOutputParser |     \n",
      "   +-----------------+     \n",
      "            *              \n",
      "            *              \n",
      "            *              \n",
      "+-----------------------+  \n",
      "| StrOutputParserOutput |  \n",
      "+-----------------------+  \n"
     ]
    }
   ],
   "source": [
    "chain_long.get_graph().print_ascii()"
   ]
  },
  {
   "cell_type": "markdown",
   "id": "e8990f1a-2c9c-44dc-bb06-de28e159ee69",
   "metadata": {},
   "source": [
    "#### RunnableParallel"
   ]
  },
  {
   "cell_type": "code",
   "execution_count": 35,
   "id": "d3ed58c0-db0a-467e-981d-47e95d0ba5d4",
   "metadata": {},
   "outputs": [],
   "source": [
    "from langchain_core.runnables import RunnableParallel"
   ]
  },
  {
   "cell_type": "code",
   "execution_count": 31,
   "id": "84c65d8d-d83e-4dca-95af-b95841b401b0",
   "metadata": {},
   "outputs": [],
   "source": [
    "chat_template_books=ChatPromptTemplate.from_template(\n",
    "    '''\n",
    "    Suggest three of the best intermediate-level {programming_language} books.\n",
    "    Answer only by listing the books.\n",
    "    '''\n",
    ")\n",
    "\n",
    "chat_template_projects=ChatPromptTemplate.from_template(\n",
    "    '''\n",
    "    Suggest three interesting {programming_language} projects suitable for intermediate-level programmers.\n",
    "    Answer only by listing the projects.\n",
    "    '''\n",
    ")"
   ]
  },
  {
   "cell_type": "code",
   "execution_count": 33,
   "id": "f044657e-6bd3-4b92-9fc7-494d85420d64",
   "metadata": {},
   "outputs": [],
   "source": [
    "string_parser=StrOutputParser()"
   ]
  },
  {
   "cell_type": "code",
   "execution_count": 34,
   "id": "2645df44-cb27-4aa5-9039-28d0c846ace9",
   "metadata": {},
   "outputs": [],
   "source": [
    "#creting both the chains\n",
    "chain_books= chat_template_books|chat|string_parser\n",
    "chain_projects= chat_template_projects|chat|string_parser"
   ]
  },
  {
   "cell_type": "code",
   "execution_count": 36,
   "id": "9d1cf798-f4fc-4330-8be5-e134f5c627e1",
   "metadata": {},
   "outputs": [],
   "source": [
    "chain_parallel=RunnableParallel({'books':chain_books,'projects':chain_projects})"
   ]
  },
  {
   "cell_type": "code",
   "execution_count": 37,
   "id": "cabbf747-530a-4840-a26e-823a866db745",
   "metadata": {},
   "outputs": [
    {
     "data": {
      "text/plain": [
       "{'books': '1. \"Programming Rust: Fast, Safe Systems Development\" by Jim Blandy and Jason Orendorff\\n2. \"Rust in Action\" by Tim McNamara\\n3. \"The Rust Programming Language\" by Steve Klabnik and Carol Nichols',\n",
       " 'projects': \"1. Building a Web Server: This project involves creating a multi-threaded web server using Rust's standard library. It will help you understand networking concepts, error handling, and concurrency in Rust.\\n\\n2. Creating a Command Line Tool: This project could involve building a command-line tool like 'grep' or a simple shell. It will help you understand file I/O, regular expressions, and command-line arguments in Rust.\\n\\n3. Developing a Game with Piston: Piston is a user-friendly game\"}"
      ]
     },
     "execution_count": 37,
     "metadata": {},
     "output_type": "execute_result"
    }
   ],
   "source": [
    "chain_parallel.invoke({'programming_language':'Rust'})"
   ]
  },
  {
   "cell_type": "code",
   "execution_count": 38,
   "id": "12cfb6fc-bd19-48e7-b2ae-f1aba94e11b7",
   "metadata": {},
   "outputs": [
    {
     "name": "stdout",
     "output_type": "stream",
     "text": [
      "            +-------------------------------+              \n",
      "            | Parallel<books,projects>Input |              \n",
      "            +-------------------------------+              \n",
      "                   ***               ***                   \n",
      "                ***                     ***                \n",
      "              **                           **              \n",
      "+--------------------+              +--------------------+ \n",
      "| ChatPromptTemplate |              | ChatPromptTemplate | \n",
      "+--------------------+              +--------------------+ \n",
      "           *                                   *           \n",
      "           *                                   *           \n",
      "           *                                   *           \n",
      "    +------------+                      +------------+     \n",
      "    | ChatOpenAI |                      | ChatOpenAI |     \n",
      "    +------------+                      +------------+     \n",
      "           *                                   *           \n",
      "           *                                   *           \n",
      "           *                                   *           \n",
      "  +-----------------+                 +-----------------+  \n",
      "  | StrOutputParser |                 | StrOutputParser |  \n",
      "  +-----------------+                 +-----------------+  \n",
      "                   ***               ***                   \n",
      "                      ***         ***                      \n",
      "                         **     **                         \n",
      "            +--------------------------------+             \n",
      "            | Parallel<books,projects>Output |             \n",
      "            +--------------------------------+             \n"
     ]
    }
   ],
   "source": [
    "chain_parallel.get_graph().print_ascii()"
   ]
  },
  {
   "cell_type": "code",
   "execution_count": 39,
   "id": "e09bbc45-30f9-49a1-a5a5-1f2f421a7ce9",
   "metadata": {},
   "outputs": [],
   "source": [
    "chat_template_time=ChatPromptTemplate.from_template('''\n",
    "I'm an intermediate level developer\n",
    "\n",
    "consider the following literatute:\n",
    "{books}\n",
    "\n",
    "also, consider the following projects:\n",
    "{projects}\n",
    "\n",
    "Roughly how much time would it take me to complete the literature and the projects?\n",
    "''')"
   ]
  },
  {
   "cell_type": "code",
   "execution_count": 41,
   "id": "c84c68a0-76b9-4e15-a344-d9cdbcd4642b",
   "metadata": {},
   "outputs": [],
   "source": [
    "chain_time=(RunnableParallel({'books':chain_books,'projects':chain_projects})\n",
    "           |chat_template_time\n",
    "           |chat\n",
    "           |string_parser)"
   ]
  },
  {
   "cell_type": "code",
   "execution_count": 42,
   "id": "f16d0f1f-0b21-4a28-9c48-95719bfe08d2",
   "metadata": {},
   "outputs": [
    {
     "data": {
      "text/plain": [
       "'The time it takes to complete the literature and the projects can vary greatly depending on several factors such as your current familiarity with Rust, your speed of reading and comprehension, the complexity of the projects, and the amount of time you can dedicate to studying and coding each day. \\n\\nHowever, as a rough estimate:\\n\\n1. \"Programming Rust: Fast, Safe Systems Development\" - This book is around 550 pages. If you read and comprehend around 20 pages a day, it would take approximately 27-28 days.\\n\\n2. \"Rust in Action\" - This book is around 450 pages. Using the same pace, it would take approximately 22-23 days.\\n\\n3. \"The Rust Programming Language\" - This book is around 280 pages. At the same pace, it would take approximately 14 days.\\n\\nFor the projects:\\n\\n1. Building a Web Server - Depending on the complexity and your familiarity with the concepts, this could take anywhere from a week to a month.\\n\\n2. Command Line Tool - This could take a week or two, depending on your familiarity with file I/O and command-line argument parsing.\\n\\n3. Game Development - This is likely the most complex project and could take a month or more, especially if you\\'re new to game development.\\n\\nSo in total, if you\\'re studying and coding full-time (around 8 hours a day), it could take approximately 3-5 months to complete the literature and the projects. If you\\'re doing this part-time (around 4 hours a day), it could take approximately 6-10 months. These are rough estimates and your actual time may be shorter or longer.'"
      ]
     },
     "execution_count": 42,
     "metadata": {},
     "output_type": "execute_result"
    }
   ],
   "source": [
    "chain_time.invoke({'programming_language':'Rust'})"
   ]
  },
  {
   "cell_type": "code",
   "execution_count": 43,
   "id": "058b43ed-8021-42cf-b4e3-78aa543c1241",
   "metadata": {},
   "outputs": [
    {
     "name": "stdout",
     "output_type": "stream",
     "text": [
      "            +-------------------------------+              \n",
      "            | Parallel<books,projects>Input |              \n",
      "            +-------------------------------+              \n",
      "                   ***               ***                   \n",
      "                ***                     ***                \n",
      "              **                           **              \n",
      "+--------------------+              +--------------------+ \n",
      "| ChatPromptTemplate |              | ChatPromptTemplate | \n",
      "+--------------------+              +--------------------+ \n",
      "           *                                   *           \n",
      "           *                                   *           \n",
      "           *                                   *           \n",
      "    +------------+                      +------------+     \n",
      "    | ChatOpenAI |                      | ChatOpenAI |     \n",
      "    +------------+                      +------------+     \n",
      "           *                                   *           \n",
      "           *                                   *           \n",
      "           *                                   *           \n",
      "  +-----------------+                 +-----------------+  \n",
      "  | StrOutputParser |                 | StrOutputParser |  \n",
      "  +-----------------+                 +-----------------+  \n",
      "                   ***               ***                   \n",
      "                      ***         ***                      \n",
      "                         **     **                         \n",
      "            +--------------------------------+             \n",
      "            | Parallel<books,projects>Output |             \n",
      "            +--------------------------------+             \n",
      "                             *                             \n",
      "                             *                             \n",
      "                             *                             \n",
      "                  +--------------------+                   \n",
      "                  | ChatPromptTemplate |                   \n",
      "                  +--------------------+                   \n",
      "                             *                             \n",
      "                             *                             \n",
      "                             *                             \n",
      "                      +------------+                       \n",
      "                      | ChatOpenAI |                       \n",
      "                      +------------+                       \n",
      "                             *                             \n",
      "                             *                             \n",
      "                             *                             \n",
      "                    +-----------------+                    \n",
      "                    | StrOutputParser |                    \n",
      "                    +-----------------+                    \n",
      "                             *                             \n",
      "                             *                             \n",
      "                             *                             \n",
      "                +-----------------------+                  \n",
      "                | StrOutputParserOutput |                  \n",
      "                +-----------------------+                  \n"
     ]
    }
   ],
   "source": [
    "chain_time.get_graph().print_ascii()"
   ]
  },
  {
   "cell_type": "markdown",
   "id": "ce376c60-b5a4-497e-9c3f-95ab3676b0d1",
   "metadata": {},
   "source": [
    "#### RunnableLambda"
   ]
  },
  {
   "cell_type": "code",
   "execution_count": 48,
   "id": "0f7f9725-6683-43bb-b552-d988a1bfe2f5",
   "metadata": {},
   "outputs": [],
   "source": [
    "from langchain_core.runnables import RunnableLambda"
   ]
  },
  {
   "cell_type": "code",
   "execution_count": 44,
   "id": "f1327ff9-3799-42e9-bfee-ec3f79ef3a4a",
   "metadata": {},
   "outputs": [],
   "source": [
    "find_sum = lambda x: sum(x)"
   ]
  },
  {
   "cell_type": "code",
   "execution_count": 45,
   "id": "dffcf96a-4bce-42cb-8fc4-b6b59bdfd5eb",
   "metadata": {},
   "outputs": [],
   "source": [
    "find_square=lambda x: x**2"
   ]
  },
  {
   "cell_type": "code",
   "execution_count": 49,
   "id": "7a06885f-4762-42fa-9927-f6e618e4c74d",
   "metadata": {},
   "outputs": [],
   "source": [
    "runnable_sum=RunnableLambda(lambda x: sum(x))"
   ]
  },
  {
   "cell_type": "code",
   "execution_count": 50,
   "id": "7326f2db-3083-4d25-b53f-9a153e1c56bd",
   "metadata": {},
   "outputs": [
    {
     "data": {
      "text/plain": [
       "8"
      ]
     },
     "execution_count": 50,
     "metadata": {},
     "output_type": "execute_result"
    }
   ],
   "source": [
    "runnable_sum.invoke([1,2,5])"
   ]
  },
  {
   "cell_type": "code",
   "execution_count": 51,
   "id": "8902396b-c59a-4257-aaa5-3cc3fb06961d",
   "metadata": {},
   "outputs": [],
   "source": [
    "runnable_square=RunnableLambda(lambda x: x**2)"
   ]
  },
  {
   "cell_type": "code",
   "execution_count": 52,
   "id": "75d53de6-9ce7-43db-a93f-93115639b42e",
   "metadata": {},
   "outputs": [],
   "source": [
    "chain=runnable_sum | runnable_square"
   ]
  },
  {
   "cell_type": "code",
   "execution_count": 53,
   "id": "c897e382-3cc2-4049-aa06-9baee246f876",
   "metadata": {},
   "outputs": [
    {
     "data": {
      "text/plain": [
       "64"
      ]
     },
     "execution_count": 53,
     "metadata": {},
     "output_type": "execute_result"
    }
   ],
   "source": [
    "chain.invoke([1,2,5])"
   ]
  },
  {
   "cell_type": "code",
   "execution_count": 54,
   "id": "8df5f885-ebf2-43ba-8861-eecfc16b7ac5",
   "metadata": {},
   "outputs": [
    {
     "name": "stdout",
     "output_type": "stream",
     "text": [
      "+-------------+  \n",
      "| LambdaInput |  \n",
      "+-------------+  \n",
      "        *        \n",
      "        *        \n",
      "        *        \n",
      "   +--------+    \n",
      "   | Lambda |    \n",
      "   +--------+    \n",
      "        *        \n",
      "        *        \n",
      "        *        \n",
      "   +--------+    \n",
      "   | Lambda |    \n",
      "   +--------+    \n",
      "        *        \n",
      "        *        \n",
      "        *        \n",
      "+--------------+ \n",
      "| LambdaOutput | \n",
      "+--------------+ \n"
     ]
    }
   ],
   "source": [
    "chain.get_graph().print_ascii()"
   ]
  },
  {
   "cell_type": "code",
   "execution_count": 55,
   "id": "3139a2ec-06e0-4367-bd88-9cc470245f33",
   "metadata": {},
   "outputs": [],
   "source": [
    "#alternative way - lnagchain decorators\n",
    "\n",
    "def find_Sum(x):\n",
    "    return sum(x)\n",
    "\n",
    "def find_square(x):\n",
    "    return x**2\n",
    "\n",
    "chain1 = RunnableLambda(find_Sum)|RunnableLambda(find_square)"
   ]
  },
  {
   "cell_type": "code",
   "execution_count": 56,
   "id": "e45fd9ba-cec3-4182-81bc-ee1397fc9637",
   "metadata": {},
   "outputs": [
    {
     "data": {
      "text/plain": [
       "64"
      ]
     },
     "execution_count": 56,
     "metadata": {},
     "output_type": "execute_result"
    }
   ],
   "source": [
    "chain1.invoke([1,2,5])"
   ]
  },
  {
   "cell_type": "code",
   "execution_count": 60,
   "id": "c7855754-4223-437f-ab55-9251f2e62c76",
   "metadata": {},
   "outputs": [],
   "source": [
    "from langchain_core.runnables import chain\n",
    "\n",
    "@chain\n",
    "def runnable_Sum(x):\n",
    "    return sum(x)\n",
    "\n",
    "@chain\n",
    "def runnable_square(x):\n",
    "    return x**2"
   ]
  },
  {
   "cell_type": "code",
   "execution_count": 61,
   "id": "b6583f18-e04b-4b9d-a832-bcf2a3e02f8b",
   "metadata": {},
   "outputs": [],
   "source": [
    "chain2=runnable_sum | runnable_square"
   ]
  },
  {
   "cell_type": "code",
   "execution_count": 62,
   "id": "b8065acc-c107-47da-b0b7-e6828ef80edc",
   "metadata": {},
   "outputs": [
    {
     "data": {
      "text/plain": [
       "64"
      ]
     },
     "execution_count": 62,
     "metadata": {},
     "output_type": "execute_result"
    }
   ],
   "source": [
    "chain2.invoke([1,2,5])"
   ]
  },
  {
   "cell_type": "markdown",
   "id": "5d22605e-b09b-47bd-a3f6-6b9c96f61243",
   "metadata": {},
   "source": [
    "#### Adding memory to the chain"
   ]
  },
  {
   "cell_type": "code",
   "execution_count": 70,
   "id": "52d10304-5d6c-43ae-876b-2767ce499875",
   "metadata": {},
   "outputs": [],
   "source": [
    "from langchain.memory import ConversationSummaryMemory\n",
    "from langchain_core.prompts import PromptTemplate\n",
    "\n",
    "TEMPLATE='''\n",
    "The following is a friendly conversation\n",
    "\n",
    "current conversation:\n",
    "{message_log}\n",
    "\n",
    "Human:\n",
    "{question}\n",
    "\n",
    "AI:\n",
    "'''\n",
    "prompt_template=PromptTemplate.from_template(template=TEMPLATE)"
   ]
  },
  {
   "cell_type": "code",
   "execution_count": 71,
   "id": "ffdf6362-ad50-48fd-804c-3f02c6e8f2fe",
   "metadata": {},
   "outputs": [],
   "source": [
    "chain = prompt_template | chat | StrOutputParser()"
   ]
  },
  {
   "cell_type": "code",
   "execution_count": 72,
   "id": "5a240a78-85c7-4310-a662-d14e0bc5d611",
   "metadata": {},
   "outputs": [
    {
     "data": {
      "text/plain": [
       "'Did you know that octopuses have three hearts? Two pump blood to the gills, while the third pumps it to the rest of the body.'"
      ]
     },
     "execution_count": 72,
     "metadata": {},
     "output_type": "execute_result"
    }
   ],
   "source": [
    "chain.invoke({'message_log':'',\n",
    "             'question':\"Tell me an intresting fact, probably that i don't know about?\"})"
   ]
  },
  {
   "cell_type": "code",
   "execution_count": 73,
   "id": "adb4c4c4-8bb0-4a01-93ee-a0edc3f1ebd9",
   "metadata": {},
   "outputs": [
    {
     "data": {
      "text/plain": [
       "'There are about 300 recognized species of octopus.'"
      ]
     },
     "execution_count": 73,
     "metadata": {},
     "output_type": "execute_result"
    }
   ],
   "source": [
    "chain.invoke({'message_log':'AI provided fact about octopus that ctopuses have three hearts. Two pump blood to the gills, while the third pumps it to the rest of the body.',\n",
    "             'question':\"Wow, how many variants are there?\"})"
   ]
  },
  {
   "cell_type": "code",
   "execution_count": 141,
   "id": "20ce284e-7d46-4897-acef-ed4124e45cb1",
   "metadata": {},
   "outputs": [],
   "source": [
    "chat_memory=ConversationSummaryMemory(llm=ChatOpenAI(),memory_key='message_log')"
   ]
  },
  {
   "cell_type": "code",
   "execution_count": 124,
   "id": "a866fef6-0af1-4bb8-9307-fdec38436d06",
   "metadata": {},
   "outputs": [
    {
     "data": {
      "text/plain": [
       "{'message_log': ''}"
      ]
     },
     "execution_count": 124,
     "metadata": {},
     "output_type": "execute_result"
    }
   ],
   "source": [
    "chat_memory.load_memory_variables({})"
   ]
  },
  {
   "cell_type": "code",
   "execution_count": 133,
   "id": "9f384f28-5511-455d-877a-06d4595d34ec",
   "metadata": {},
   "outputs": [],
   "source": [
    "question= \"Tell me an intresting fact, probably that i don't know about?\""
   ]
  },
  {
   "cell_type": "code",
   "execution_count": 134,
   "id": "ad3240ee-b0be-4cc0-ab68-e5617c4f71b2",
   "metadata": {},
   "outputs": [],
   "source": [
    "dictionary_output=RunnablePassthrough.assign(\n",
    "    message_log=RunnableLambda(chat_memory.load_memory_variables)|\n",
    "    RunnableLambda(itemgetter('message_log'))).invoke({'question':question})"
   ]
  },
  {
   "cell_type": "code",
   "execution_count": 135,
   "id": "9495bda0-228f-416f-a96d-a91fd44c8c10",
   "metadata": {},
   "outputs": [],
   "source": [
    "prompt_value=prompt_template.invoke(dictionary_output)"
   ]
  },
  {
   "cell_type": "code",
   "execution_count": 136,
   "id": "64e95cba-3fa5-41c8-af14-33b09733ec74",
   "metadata": {},
   "outputs": [],
   "source": [
    "ai_message_output=chat.invoke(prompt_value)"
   ]
  },
  {
   "cell_type": "code",
   "execution_count": 137,
   "id": "fba989f2-3ddd-416f-8be7-844eb7e2a9d6",
   "metadata": {},
   "outputs": [],
   "source": [
    "response=StrOutputParser().invoke(ai_message_output)"
   ]
  },
  {
   "cell_type": "code",
   "execution_count": 138,
   "id": "455cb927-046b-4ffa-becb-67244cfce168",
   "metadata": {},
   "outputs": [],
   "source": [
    "chat_memory.save_context(inputs={'inputs':question},outputs={'outputs':response})"
   ]
  },
  {
   "cell_type": "code",
   "execution_count": 139,
   "id": "023a6647-1ba1-4556-bff2-2b615c9df6a4",
   "metadata": {},
   "outputs": [
    {
     "data": {
      "text/plain": [
       "{'message_log': 'The human asks the AI to share an interesting fact. The AI reveals that octopuses have three hearts, two to pump blood to the gills and one to pump it to the rest of the body. The human expresses interest in different kinds of octopuses, and the AI explains that there are around 300 recognized species with unique characteristics and behaviors.'}"
      ]
     },
     "execution_count": 139,
     "metadata": {},
     "output_type": "execute_result"
    }
   ],
   "source": [
    "chat_memory.load_memory_variables({})"
   ]
  },
  {
   "cell_type": "code",
   "execution_count": 140,
   "id": "1e16e6ef-7a2d-4794-8e44-346cfe3cc579",
   "metadata": {},
   "outputs": [
    {
     "data": {
      "text/plain": [
       "'There are around 300 recognized species of octopus. Some of the most well-known include the Common Octopus, the Giant Pacific Octopus, the Blue-Ringed Octopus, the Dumbo Octopus, and the Mimic Octopus. Each species has its own unique characteristics and behaviors.'"
      ]
     },
     "execution_count": 140,
     "metadata": {},
     "output_type": "execute_result"
    }
   ],
   "source": [
    "response"
   ]
  },
  {
   "cell_type": "code",
   "execution_count": 143,
   "id": "9351df18-2836-4994-9893-588bae4d006d",
   "metadata": {},
   "outputs": [
    {
     "data": {
      "text/plain": [
       "'Did you know that octopuses have three hearts? Two pump blood to the gills, while the third pumps it to the rest of the body.'"
      ]
     },
     "execution_count": 143,
     "metadata": {},
     "output_type": "execute_result"
    }
   ],
   "source": [
    "#lets create a chain\n",
    "\n",
    "chain1=(RunnablePassthrough.assign(\n",
    "    message_log=RunnableLambda(chat_memory.load_memory_variables)|\n",
    "    RunnableLambda(itemgetter('message_log')))\n",
    "        |prompt_template\n",
    "        |chat\n",
    "        |StrOutputParser()\n",
    "       )\n",
    "question=\"Tell me an intresting fact, probably that i don't know about?\"\n",
    "response=chain1.invoke({'question':question})\n",
    "chat_memory.save_context(inputs={'inputs':question},outputs={'outputs':response})\n",
    "response"
   ]
  },
  {
   "cell_type": "code",
   "execution_count": 144,
   "id": "0a2b3495-f553-4869-85fd-b9637c36022f",
   "metadata": {},
   "outputs": [
    {
     "data": {
      "text/plain": [
       "'There are around 300 recognized species of octopuses. Some of the most well-known include the Common Octopus, Giant Pacific Octopus, Blue-Ringed Octopus, Dumbo Octopus, and the Mimic Octopus. Each species has its own unique characteristics and behaviors.'"
      ]
     },
     "execution_count": 144,
     "metadata": {},
     "output_type": "execute_result"
    }
   ],
   "source": [
    "question=\"Wow, what are the different kinds of them?\"\n",
    "response=chain1.invoke({'question':question})\n",
    "chat_memory.save_context(inputs={'inputs':question},outputs={'outputs':response})\n",
    "response"
   ]
  },
  {
   "cell_type": "code",
   "execution_count": 145,
   "id": "4ad014dd-dd57-4f0d-bdf6-360f0730f835",
   "metadata": {},
   "outputs": [
    {
     "data": {
      "text/plain": [
       "\"Yes, octopus is commonly consumed in many cultures and is a popular part of Mediterranean and Asian cuisines. However, it's important to note that some species, like the Blue-Ringed Octopus, are venomous and not safe to eat. Always ensure that any seafood you consume is properly prepared and safe to eat.\""
      ]
     },
     "execution_count": 145,
     "metadata": {},
     "output_type": "execute_result"
    }
   ],
   "source": [
    "question=\"Can i eat it?\"\n",
    "response=chain1.invoke({'question':question})\n",
    "chat_memory.save_context(inputs={'inputs':question},outputs={'outputs':response})\n",
    "response"
   ]
  },
  {
   "cell_type": "code",
   "execution_count": 148,
   "id": "bb0a0ab2-91bd-4464-ae65-eafec01abfd6",
   "metadata": {},
   "outputs": [],
   "source": [
    "#lets use decarators\n",
    "from langchain_core.runnables import chain\n",
    "@chain\n",
    "def memory_chain(question):\n",
    "    chain1=(RunnablePassthrough.assign(\n",
    "        message_log=RunnableLambda(chat_memory.load_memory_variables)|\n",
    "        RunnableLambda(itemgetter('message_log')))\n",
    "            |prompt_template\n",
    "            |chat\n",
    "            |StrOutputParser()\n",
    "           )\n",
    "    response=chain1.invoke({'question':question})\n",
    "    chat_memory.save_context(inputs={'inputs':question},outputs={'outputs':response})\n",
    "    return response"
   ]
  },
  {
   "cell_type": "code",
   "execution_count": 150,
   "id": "396dbd75-8149-4523-95bf-2beb68bf7956",
   "metadata": {},
   "outputs": [
    {
     "data": {
      "text/plain": [
       "\"India is the world's largest producer and consumer of spices. The country produces about 70% of the world's spices.\""
      ]
     },
     "execution_count": 150,
     "metadata": {},
     "output_type": "execute_result"
    }
   ],
   "source": [
    "memory_chain.invoke('Tell me an interesting fact about india?')"
   ]
  },
  {
   "cell_type": "code",
   "execution_count": 151,
   "id": "8f0b598c-717b-4240-b115-e78420446e94",
   "metadata": {},
   "outputs": [
    {
     "data": {
      "text/plain": [
       "'Sure, some of the spices that India produces include turmeric, cardamom, cumin, coriander, fenugreek, ginger, clove, black pepper, and red chili pepper.'"
      ]
     },
     "execution_count": 151,
     "metadata": {},
     "output_type": "execute_result"
    }
   ],
   "source": [
    "memory_chain.invoke('Name some of them?')"
   ]
  },
  {
   "cell_type": "code",
   "execution_count": null,
   "id": "0944184c-1f61-4d5c-b0d7-3d7ce60d1a5c",
   "metadata": {},
   "outputs": [],
   "source": []
  }
 ],
 "metadata": {
  "kernelspec": {
   "display_name": "langchain_env",
   "language": "python",
   "name": "langchain_env"
  },
  "language_info": {
   "codemirror_mode": {
    "name": "ipython",
    "version": 3
   },
   "file_extension": ".py",
   "mimetype": "text/x-python",
   "name": "python",
   "nbconvert_exporter": "python",
   "pygments_lexer": "ipython3",
   "version": "3.10.10"
  }
 },
 "nbformat": 4,
 "nbformat_minor": 5
}
