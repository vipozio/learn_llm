{
 "cells": [
  {
   "cell_type": "markdown",
   "id": "74b62a23-c6ec-4ee6-91c0-8cc07457c4af",
   "metadata": {},
   "source": [
    "### RAG"
   ]
  },
  {
   "cell_type": "markdown",
   "id": "791e6173-b669-42e6-84c9-ab45ff1fc881",
   "metadata": {},
   "source": [
    "Three major parts:\n",
    "\n",
    "1.Indexing\n",
    "\n",
    "2.Retrival\n",
    "\n",
    "3.generating"
   ]
  },
  {
   "cell_type": "markdown",
   "id": "f2cb5145-01ce-458d-a37b-3e2783a10b6a",
   "metadata": {},
   "source": [
    "#### Indexing"
   ]
  },
  {
   "cell_type": "markdown",
   "id": "568683a7-f6e9-4a22-9af7-b1cd0bc1ab7e",
   "metadata": {},
   "source": [
    "##### Document Loading"
   ]
  },
  {
   "cell_type": "code",
   "execution_count": 1,
   "id": "718d7ed7-1cdc-478d-b6bf-ecbe9f566d4a",
   "metadata": {},
   "outputs": [],
   "source": [
    "#for processing pdf\n",
    "from langchain_community.document_loaders import PyPDFLoader\n",
    "import copy\n",
    "\n",
    "loader_pdf=PyPDFLoader(r'Resources\\\\Introduction_to_Data_and_Data_Science.pdf')\n",
    "\n",
    "pages_pdf=loader_pdf.load()\n",
    "\n",
    "#removing new line character\n",
    "pages_pdf_cut=copy.deepcopy(pages_pdf)\n",
    "\n",
    "for i in pages_pdf_cut:\n",
    "    i.page_content=' '.join(i.page_content.split())"
   ]
  },
  {
   "cell_type": "code",
   "execution_count": 2,
   "id": "40814565-560e-4f8d-bc04-35ed232a55f4",
   "metadata": {},
   "outputs": [],
   "source": [
    "# for docx extension\n",
    "from langchain_community.document_loaders import Docx2txtLoader"
   ]
  },
  {
   "cell_type": "code",
   "execution_count": 3,
   "id": "fda3b8d0-9dfa-4687-a634-c1b14705ef3a",
   "metadata": {},
   "outputs": [],
   "source": [
    "loader_docx=Docx2txtLoader(r'Resources\\\\Introduction_to_Data_and_Data_Science.docx')"
   ]
  },
  {
   "cell_type": "markdown",
   "id": "069ac028-4304-48f5-bfc6-ab7766eda0ca",
   "metadata": {},
   "source": [
    "#### Document Splitting"
   ]
  },
  {
   "cell_type": "markdown",
   "id": "b7cdfaf4-e1a6-4814-ba4b-7237736082d0",
   "metadata": {},
   "source": [
    "##### charcter text splitter"
   ]
  },
  {
   "cell_type": "code",
   "execution_count": 4,
   "id": "806e4c8d-fd2c-4f66-b76d-af4d54e5ca5f",
   "metadata": {},
   "outputs": [],
   "source": [
    "from langchain_text_splitters.character import CharacterTextSplitter"
   ]
  },
  {
   "cell_type": "code",
   "execution_count": 5,
   "id": "c1828b26-c6c4-4e5a-b24a-acdd31ce6683",
   "metadata": {},
   "outputs": [],
   "source": [
    "pages=loader_docx.load()"
   ]
  },
  {
   "cell_type": "code",
   "execution_count": 6,
   "id": "3dda70aa-1acc-4bcf-b262-adec3b9b628c",
   "metadata": {},
   "outputs": [],
   "source": [
    "for i in pages:\n",
    "    i.page_content=' '.join(i.page_content.split())"
   ]
  },
  {
   "cell_type": "code",
   "execution_count": 7,
   "id": "c9c793f0-920e-4836-ab68-3456b07dabec",
   "metadata": {},
   "outputs": [
    {
     "data": {
      "text/plain": [
       "17"
      ]
     },
     "execution_count": 7,
     "metadata": {},
     "output_type": "execute_result"
    }
   ],
   "source": [
    "char_splitter=CharacterTextSplitter(separator='',chunk_size=500,chunk_overlap=0)\n",
    "\n",
    "pages_char_split=char_splitter.split_documents(pages)\n",
    "\n",
    "len(pages_char_split)"
   ]
  },
  {
   "cell_type": "code",
   "execution_count": 8,
   "id": "412f1b79-aa7e-48d6-bfa2-cf59e6ac7d2d",
   "metadata": {},
   "outputs": [
    {
     "data": {
      "text/plain": [
       "21"
      ]
     },
     "execution_count": 8,
     "metadata": {},
     "output_type": "execute_result"
    }
   ],
   "source": [
    "#lets introduce overlap & separator\n",
    "char_splitter=CharacterTextSplitter(separator='.',chunk_size=500,chunk_overlap=50)\n",
    "\n",
    "pages_char_split=char_splitter.split_documents(pages)\n",
    "\n",
    "len(pages_char_split)"
   ]
  },
  {
   "cell_type": "markdown",
   "id": "e4b8eab4-e69c-43e4-9068-f8ef6e860738",
   "metadata": {},
   "source": [
    "##### using Markdown header text splitter"
   ]
  },
  {
   "cell_type": "code",
   "execution_count": 9,
   "id": "42f46c4f-3f02-48c5-b7d4-feaec4164eb8",
   "metadata": {},
   "outputs": [],
   "source": [
    "from langchain_text_splitters.markdown import MarkdownHeaderTextSplitter"
   ]
  },
  {
   "cell_type": "code",
   "execution_count": 10,
   "id": "580e0d7d-c7f2-4d96-b40b-db37c9166308",
   "metadata": {},
   "outputs": [],
   "source": [
    "loader_docx=Docx2txtLoader(r'Resources\\\\Introduction_to_Data_and_Data_Science_markdown.docx')\n",
    "pages=loader_docx.load()"
   ]
  },
  {
   "cell_type": "code",
   "execution_count": 11,
   "id": "e692aaad-a97d-4123-a33e-4b32b5a626c0",
   "metadata": {},
   "outputs": [],
   "source": [
    "md_splitter=MarkdownHeaderTextSplitter([\n",
    "    ('#','course Title'),\n",
    "    ('##','Lecture Title')\n",
    "])\n",
    "\n",
    "pages_md_split=md_splitter.split_text(pages[0].page_content)"
   ]
  },
  {
   "cell_type": "code",
   "execution_count": 12,
   "id": "afdfe8ec-719e-436f-bb17-da2489eb52fb",
   "metadata": {},
   "outputs": [],
   "source": [
    "for i in pages_md_split:\n",
    "    i.page_content=' '.join(i.page_content.split())"
   ]
  },
  {
   "cell_type": "code",
   "execution_count": 13,
   "id": "3aabef07-6af1-44f6-8f93-e50c4070538e",
   "metadata": {},
   "outputs": [],
   "source": [
    "char_splitter=CharacterTextSplitter(separator='.',chunk_size=500,chunk_overlap=50)"
   ]
  },
  {
   "cell_type": "code",
   "execution_count": 14,
   "id": "327c6355-c8f3-462e-864a-68be1c4d79d3",
   "metadata": {},
   "outputs": [],
   "source": [
    "pages_char_split=char_splitter.split_documents(pages_md_split)"
   ]
  },
  {
   "cell_type": "markdown",
   "id": "173706f8-9cd3-489f-b644-a5af156fdd40",
   "metadata": {},
   "source": [
    "#### Embedding"
   ]
  },
  {
   "cell_type": "code",
   "execution_count": 15,
   "id": "3365001b-39f7-43aa-a63b-22da312f1197",
   "metadata": {},
   "outputs": [],
   "source": [
    "from langchain_openai.embeddings import OpenAIEmbeddings\n",
    "import os\n",
    "from dotenv import load_dotenv\n",
    "import numpy as np"
   ]
  },
  {
   "cell_type": "code",
   "execution_count": 16,
   "id": "26be195d-2d4b-4904-99ce-e0d63529030a",
   "metadata": {},
   "outputs": [
    {
     "data": {
      "text/plain": [
       "True"
      ]
     },
     "execution_count": 16,
     "metadata": {},
     "output_type": "execute_result"
    }
   ],
   "source": [
    "#initializing env variable\n",
    "load_dotenv(dotenv_path='D:\\Project\\.env.txt')"
   ]
  },
  {
   "cell_type": "code",
   "execution_count": 17,
   "id": "399226df-03ed-4ff4-b0a6-a0fefbb81d97",
   "metadata": {},
   "outputs": [],
   "source": [
    "embedding=OpenAIEmbeddings( model=\"text-embedding-ada-002\")"
   ]
  },
  {
   "cell_type": "code",
   "execution_count": 18,
   "id": "292d4da1-bd3b-4ddb-a733-96093c5b270c",
   "metadata": {},
   "outputs": [],
   "source": [
    "vector1=embedding.embed_query(pages_char_split[3].page_content)\n",
    "vector2=embedding.embed_query(pages_char_split[5].page_content)\n",
    "vector3=embedding.embed_query(pages_char_split[18].page_content)"
   ]
  },
  {
   "cell_type": "code",
   "execution_count": 19,
   "id": "b504125c-9e52-40a9-8983-ef930933728d",
   "metadata": {},
   "outputs": [
    {
     "data": {
      "text/plain": [
       "0.8791284497943928"
      ]
     },
     "execution_count": 19,
     "metadata": {},
     "output_type": "execute_result"
    }
   ],
   "source": [
    "np.dot(vector1,vector2)"
   ]
  },
  {
   "cell_type": "markdown",
   "id": "cb63b35a-9035-4cba-8540-817d9004900a",
   "metadata": {},
   "source": [
    "##### Storing"
   ]
  },
  {
   "cell_type": "code",
   "execution_count": 25,
   "id": "8ba686de-b719-4572-b2b7-53a965706c57",
   "metadata": {},
   "outputs": [],
   "source": [
    "from langchain_community.vectorstores import Chroma"
   ]
  },
  {
   "cell_type": "code",
   "execution_count": 27,
   "id": "a584a76b-a046-4394-bffe-48968fcfdf82",
   "metadata": {},
   "outputs": [],
   "source": [
    "vectorestore= Chroma.from_documents(documents=pages_char_split,\n",
    "                                    embedding=embedding,\n",
    "                                    persist_directory=\"./vector_Store\")"
   ]
  },
  {
   "cell_type": "code",
   "execution_count": 31,
   "id": "fe503fda-38c5-4034-9531-97880ae3f570",
   "metadata": {},
   "outputs": [],
   "source": [
    "#what if we need to refer from existing database\n",
    "vectorestore_from_directory=Chroma(embedding_function=embedding,\n",
    "                                    persist_directory=\"./vector_Store\")"
   ]
  },
  {
   "cell_type": "code",
   "execution_count": 32,
   "id": "c47d39a1-d59b-489b-be60-c607d2419bd5",
   "metadata": {},
   "outputs": [
    {
     "data": {
      "text/plain": [
       "{'ids': ['868c4d89-e5d7-4728-afc0-ab3d26f94585',\n",
       "  'c4d76855-be40-4ed0-9dae-98a960f743a9',\n",
       "  'f8b80cc3-ba19-4c52-86f4-bec5e14685d7',\n",
       "  '4b7516f0-687a-4c18-b41b-21c8f18d9552',\n",
       "  '05721762-f3d2-443f-9f97-555b054e8a9d',\n",
       "  '00d6255a-cd3f-4a28-b1ee-93c30bcae4a1',\n",
       "  '5d4c3fd2-ede5-4389-b800-c706291f8afd',\n",
       "  '91b00f24-7f4d-41e6-9ab4-01a9b06db6fb',\n",
       "  'b3ba41a3-43e0-4741-aa29-1faf4f0a5119',\n",
       "  '1e3e61f8-3e83-48f6-85cd-cd27ea18eb39',\n",
       "  '36af7a5e-c36b-40c5-8b99-28c3e02767b6',\n",
       "  'b7aae5f1-3a8c-4b76-860e-ac267cc2a157',\n",
       "  '96a2fe04-da6c-4940-a0b9-f7e4d980f065',\n",
       "  'c8121ba3-4272-4404-92e2-17e62265ead5',\n",
       "  'd00d6be7-4a30-40cd-97cf-aadec35ee8e1',\n",
       "  '0d3d1daf-2721-4a04-b60e-c7c5476a7f34',\n",
       "  'cf203599-f18b-4f10-b1fa-bfcd02fc6105',\n",
       "  '540c555c-b5f6-4f20-b743-0fcceb9c14d9',\n",
       "  'dd4acbd8-fae6-41bb-9ad8-982fd5d5d45e',\n",
       "  'e421c7f5-e384-4b66-b5e9-a9901d5573ad'],\n",
       " 'embeddings': None,\n",
       " 'documents': ['Alright! So… Let’s discuss the not-so-obvious differences between the terms analysis and analytics. Due to the similarity of the words, some people believe they share the same meaning, and thus use them interchangeably. Technically, this isn’t correct. There is, in fact, a distinct difference between the two. And the reason for one often being used instead of the other is the lack of a transparent understanding of both. So, let’s clear this up, shall we? First, we will start with analysis',\n",
       "  'Consider the following… You have a huge dataset containing data of various types. Instead of tackling the entire dataset and running the risk of becoming overwhelmed, you separate it into easier to digest chunks and study them individually and examine how they relate to other parts. And that’s analysis in a nutshell. One important thing to remember, however, is that you perform analyses on things that have already happened in the past',\n",
       "  'Such as using an analysis to explain how a story ended the way it did or how there was a decrease in sales last summer. All this means that we do analyses to explain how and/or why something happened. Great! Now, this leads us nicely on to the definition of analytics. As you have probably guessed, analytics generally refers to the future. Instead of explaining past events it explores potential future ones',\n",
       "  'Analytics is essentially the application of logical and computational reasoning to the component parts obtained in an analysis. And in doing this you are looking for patterns and exploring what you could do with them in the future. Here, analytics branches off into two areas: qualitative analytics – this is using your intuition and experience in conjunction with the analysis to plan your next business move',\n",
       "  \"And quantitative analytics – this is applying formulas and algorithms to numbers you have gathered from your analysis. Here are a couple of examples. Say, you are an owner of an online clothing store. You are ahead of the competition and have a great understanding of what your customer's needs and wants are. You’ve performed a very detailed analysis from women’s clothing articles and feel sure about which fashion trends to follow\",\n",
       "  'You may use this intuition to decide on which styles of clothing to start selling. This would be qualitative analytics. But you might not know when to introduce the new collection. In that case, relying on past sales data and user experience data, you could predict in which month it would be best to do that. This is an example of using quantitative analytics',\n",
       "  'Fantastic! To backtrack a little, you can combine these areas with analyses also – you could perform qualitative analysis – to explain how or why a story ended the way it did. And you can perform quantitative analysis – working with past data to explain how sales decreased last summer',\n",
       "  'Perfect! Now that we have cleared up the differences between analysis and analytics it shouldn’t be too difficult to see how terms such as ‘data analysis’, ‘data analytics’, ‘business analysis’ and ‘business analytics’ can have their unique meanings too. More of this will be explained in the next video which aims to simplify these, as well as many more with a fantastic diagram. So, let’s move on!',\n",
       "  'Alright! So… How are the techniques used in data, business intelligence, or predictive analytics applied in real life? Certainly, with the help of computers. You can basically split the relevant tools into two categories—programming languages and software. Knowing a programming language enables you to devise programs that can execute specific operations. Moreover, you can reuse these programs whenever you need to execute the same action',\n",
       "  'As you can see from the infographic, R, and Python are the two most popular tools across all columns. Their biggest advantage is that they can manipulate data and are integrated within multiple data and data science software platforms. They are not just suitable for mathematical and statistical computations. In other words, R, and Python are adaptable. They can solve a wide variety of business and data-related problems from beginning to the end',\n",
       "  'Of course, R, and Python do have their limitations. They are not able to address problems specific to some domains. One example is ‘relational database management systems’—there, SQL is king. It was specifically created for that purpose. SQL is at its most advantageous when working with traditional, historical data. When preparing your BI analysis, for instance, you will surely employ it. Okay. When it comes to data science, mentioning MATLAB is inevitable',\n",
       "  'It is ideal for working with mathematical functions or matrix manipulations. That’s why it is present in all categories except for ‘big data’. While respectable, MATLAB usage is a paid service, and that’s one of the reasons why it is losing ground to open-source languages like R and Python. Either way, R, Python, and MATLAB, combined with SQL, cover most of the tools used when working with traditional data, BI, and conventional data science',\n",
       "  'What about big data? Apart from R and Python, people working in this area are often proficient in other languages like Java or Scala. These two have not been developed specifically for doing statistical analyses, however they turn out to be very useful when combining data from multiple sources. All right! Let’s finish off with machine learning. When it comes to machine learning, we often deal with big data',\n",
       "  'Thus, we need a lot of computational power, and we can expect people to use the languages similar to those in the big data column. Apart from R, Python, and MATLAB, other, faster languages are used like Java, JavaScript, C, C++, and Scala. Cool. What we said may be wonderful, but that’s not all! By using one or more programming languages, people create application software or, as they are sometimes called, software solutions, that are adjusted for specific business needs',\n",
       "  'Their smaller scope does not make them less useful, in fact, just the opposite—they are a lot easier to learn and be adopted by others. You have already heard of several of those. Because of its ability to do relatively complex computations and good visualizations quickly, Excel is a tool applicable to more than one category—traditional data, BI, and Data Science. Similarly, SPSS is a very famous tool for working with traditional data and applying statistical analysis',\n",
       "  'Among the many applications we have plotted, we can say there is an increasing amount of software designed for working with big data such as Apache Hadoop, Apache Hbase, and Mongo DB. In terms of big data, Hadoop is the name that must stick with you. Hadoop is listed as a software in the sense that it is a collection of programs, but don’t imagine it as a nice-looking application',\n",
       "  'It’s actually a software framework which was designed to address the complexity of big data and its computational intensity. Most notably, Hadoop distributes the computational tasks on multiple computers which is basically the way to handle big data nowadays. Power BI, SaS, Qlik, and especially Tableau are top-notch examples of software designed for business intelligence visualizations',\n",
       "  'In terms of predictive analytics, EViews is mostly used for working with econometric time-series models, and Stata—for academic statistical and econometric research, where techniques like regression, cluster, and factor analysis are constantly applied. As a final note, remember the following. Should you have the relevant business and theoretical knowledge, learning a software tool is relatively easy as opposed to learning a programming language',\n",
       "  'More importantly, it will be sufficient for your need to create quick and accurate analyses. However, if your theoretical preparation is strong enough, you will find yourself restricted by software. Knowing a programming language such as R and Python, gives you the freedom to create specific, ad-hoc tools for each project you are working on',\n",
       "  'Great! We hope we gave you a good idea about the level of applicability of the most frequently used programming and software tools in the field of data science. Thank you for watching!'],\n",
       " 'uris': None,\n",
       " 'data': None,\n",
       " 'metadatas': [{'Lecture Title': 'Analysis vs Analytics',\n",
       "   'course Title': 'Introduction_to_Data_and_Data_Science'},\n",
       "  {'Lecture Title': 'Analysis vs Analytics',\n",
       "   'course Title': 'Introduction_to_Data_and_Data_Science'},\n",
       "  {'Lecture Title': 'Analysis vs Analytics',\n",
       "   'course Title': 'Introduction_to_Data_and_Data_Science'},\n",
       "  {'Lecture Title': 'Analysis vs Analytics',\n",
       "   'course Title': 'Introduction_to_Data_and_Data_Science'},\n",
       "  {'Lecture Title': 'Analysis vs Analytics',\n",
       "   'course Title': 'Introduction_to_Data_and_Data_Science'},\n",
       "  {'Lecture Title': 'Analysis vs Analytics',\n",
       "   'course Title': 'Introduction_to_Data_and_Data_Science'},\n",
       "  {'Lecture Title': 'Analysis vs Analytics',\n",
       "   'course Title': 'Introduction_to_Data_and_Data_Science'},\n",
       "  {'Lecture Title': 'Analysis vs Analytics',\n",
       "   'course Title': 'Introduction_to_Data_and_Data_Science'},\n",
       "  {'Lecture Title': 'Programming Languages & Software Employed in Data Science - All the Tools You Need',\n",
       "   'course Title': 'Introduction_to_Data_and_Data_Science'},\n",
       "  {'Lecture Title': 'Programming Languages & Software Employed in Data Science - All the Tools You Need',\n",
       "   'course Title': 'Introduction_to_Data_and_Data_Science'},\n",
       "  {'Lecture Title': 'Programming Languages & Software Employed in Data Science - All the Tools You Need',\n",
       "   'course Title': 'Introduction_to_Data_and_Data_Science'},\n",
       "  {'Lecture Title': 'Programming Languages & Software Employed in Data Science - All the Tools You Need',\n",
       "   'course Title': 'Introduction_to_Data_and_Data_Science'},\n",
       "  {'Lecture Title': 'Programming Languages & Software Employed in Data Science - All the Tools You Need',\n",
       "   'course Title': 'Introduction_to_Data_and_Data_Science'},\n",
       "  {'Lecture Title': 'Programming Languages & Software Employed in Data Science - All the Tools You Need',\n",
       "   'course Title': 'Introduction_to_Data_and_Data_Science'},\n",
       "  {'Lecture Title': 'Programming Languages & Software Employed in Data Science - All the Tools You Need',\n",
       "   'course Title': 'Introduction_to_Data_and_Data_Science'},\n",
       "  {'Lecture Title': 'Programming Languages & Software Employed in Data Science - All the Tools You Need',\n",
       "   'course Title': 'Introduction_to_Data_and_Data_Science'},\n",
       "  {'Lecture Title': 'Programming Languages & Software Employed in Data Science - All the Tools You Need',\n",
       "   'course Title': 'Introduction_to_Data_and_Data_Science'},\n",
       "  {'Lecture Title': 'Programming Languages & Software Employed in Data Science - All the Tools You Need',\n",
       "   'course Title': 'Introduction_to_Data_and_Data_Science'},\n",
       "  {'Lecture Title': 'Programming Languages & Software Employed in Data Science - All the Tools You Need',\n",
       "   'course Title': 'Introduction_to_Data_and_Data_Science'},\n",
       "  {'Lecture Title': 'Programming Languages & Software Employed in Data Science - All the Tools You Need',\n",
       "   'course Title': 'Introduction_to_Data_and_Data_Science'}],\n",
       " 'included': [<IncludeEnum.documents: 'documents'>,\n",
       "  <IncludeEnum.metadatas: 'metadatas'>]}"
      ]
     },
     "execution_count": 32,
     "metadata": {},
     "output_type": "execute_result"
    }
   ],
   "source": [
    "vectorestore_from_directory.get()"
   ]
  },
  {
   "cell_type": "code",
   "execution_count": 34,
   "id": "357cdda5-6195-4791-ba6d-03a81cfe16f5",
   "metadata": {},
   "outputs": [],
   "source": [
    "#adding new document to vector store\n",
    "from langchain_core.documents import Document\n",
    "added_document=Document(page_content='This is a new document',\n",
    "                        metadata={'course Title':'Introduction_to_Data_and_Data_Science',\n",
    "                                  'Lecture Title': 'New'})"
   ]
  },
  {
   "cell_type": "code",
   "execution_count": 36,
   "id": "43e66180-228b-4964-9cdb-991de4d321bd",
   "metadata": {},
   "outputs": [
    {
     "data": {
      "text/plain": [
       "['ac3586ca-2db6-4060-9ee2-4b4aceb58dde']"
      ]
     },
     "execution_count": 36,
     "metadata": {},
     "output_type": "execute_result"
    }
   ],
   "source": [
    "vectorestore_from_directory.add_documents([added_document])"
   ]
  },
  {
   "cell_type": "code",
   "execution_count": 37,
   "id": "acbe914e-c90f-4165-9e03-755b23ad9ad9",
   "metadata": {},
   "outputs": [
    {
     "data": {
      "text/plain": [
       "{'ids': ['ac3586ca-2db6-4060-9ee2-4b4aceb58dde'],\n",
       " 'embeddings': None,\n",
       " 'documents': ['This is a new document'],\n",
       " 'uris': None,\n",
       " 'data': None,\n",
       " 'metadatas': [{'Lecture Title': 'New',\n",
       "   'course Title': 'Introduction_to_Data_and_Data_Science'}],\n",
       " 'included': [<IncludeEnum.documents: 'documents'>,\n",
       "  <IncludeEnum.metadatas: 'metadatas'>]}"
      ]
     },
     "execution_count": 37,
     "metadata": {},
     "output_type": "execute_result"
    }
   ],
   "source": [
    "vectorestore_from_directory.get('ac3586ca-2db6-4060-9ee2-4b4aceb58dde')"
   ]
  },
  {
   "cell_type": "code",
   "execution_count": 39,
   "id": "5adfab27-547b-4f59-a35d-5746864cb342",
   "metadata": {},
   "outputs": [],
   "source": [
    "#updaing a document\n",
    "updated_document=Document(page_content='This is a new updated document',\n",
    "                        metadata={'course Title':'Introduction_to_Data_and_Data_Science',\n",
    "                                  'Lecture Title': 'New'})"
   ]
  },
  {
   "cell_type": "code",
   "execution_count": 40,
   "id": "4a6b7ea8-b8b1-4712-900d-6dfaa4a31db5",
   "metadata": {},
   "outputs": [],
   "source": [
    "vectorestore_from_directory.update_document(document_id='ac3586ca-2db6-4060-9ee2-4b4aceb58dde',\n",
    "                                            document=updated_document)"
   ]
  },
  {
   "cell_type": "code",
   "execution_count": 41,
   "id": "06815250-a89f-4f24-8871-8eae6707911e",
   "metadata": {},
   "outputs": [
    {
     "data": {
      "text/plain": [
       "{'ids': ['ac3586ca-2db6-4060-9ee2-4b4aceb58dde'],\n",
       " 'embeddings': None,\n",
       " 'documents': ['This is a new updated document'],\n",
       " 'uris': None,\n",
       " 'data': None,\n",
       " 'metadatas': [{'Lecture Title': 'New',\n",
       "   'course Title': 'Introduction_to_Data_and_Data_Science'}],\n",
       " 'included': [<IncludeEnum.documents: 'documents'>,\n",
       "  <IncludeEnum.metadatas: 'metadatas'>]}"
      ]
     },
     "execution_count": 41,
     "metadata": {},
     "output_type": "execute_result"
    }
   ],
   "source": [
    "vectorestore_from_directory.get('ac3586ca-2db6-4060-9ee2-4b4aceb58dde')"
   ]
  },
  {
   "cell_type": "code",
   "execution_count": 45,
   "id": "f111513b-4491-4028-997e-1584014373b2",
   "metadata": {},
   "outputs": [
    {
     "name": "stderr",
     "output_type": "stream",
     "text": [
      "Delete of nonexisting embedding ID: ac3586ca-2db6-4060-9ee2-4b4aceb58dde\n",
      "Delete of nonexisting embedding ID: ac3586ca-2db6-4060-9ee2-4b4aceb58dde\n"
     ]
    }
   ],
   "source": [
    "#deleting the document\n",
    "vectorestore_from_directory.delete('ac3586ca-2db6-4060-9ee2-4b4aceb58dde')"
   ]
  },
  {
   "cell_type": "code",
   "execution_count": 44,
   "id": "d61aea56-008c-42ea-bc00-498910e45c17",
   "metadata": {},
   "outputs": [
    {
     "data": {
      "text/plain": [
       "{'ids': [],\n",
       " 'embeddings': None,\n",
       " 'documents': [],\n",
       " 'uris': None,\n",
       " 'data': None,\n",
       " 'metadatas': [],\n",
       " 'included': [<IncludeEnum.documents: 'documents'>,\n",
       "  <IncludeEnum.metadatas: 'metadatas'>]}"
      ]
     },
     "execution_count": 44,
     "metadata": {},
     "output_type": "execute_result"
    }
   ],
   "source": [
    "#verify\n",
    "vectorestore_from_directory.get('ac3586ca-2db6-4060-9ee2-4b4aceb58dde')"
   ]
  },
  {
   "cell_type": "markdown",
   "id": "87683f91-3679-441c-912f-761c15805307",
   "metadata": {},
   "source": [
    "#### Retrival"
   ]
  },
  {
   "cell_type": "code",
   "execution_count": 49,
   "id": "967a5fb4-fda6-447d-a7a1-078e6a439313",
   "metadata": {},
   "outputs": [
    {
     "data": {
      "text/plain": [
       "[Document(metadata={'Lecture Title': 'Programming Languages & Software Employed in Data Science - All the Tools You Need', 'course Title': 'Introduction_to_Data_and_Data_Science'}, page_content='What about big data? Apart from R and Python, people working in this area are often proficient in other languages like Java or Scala. These two have not been developed specifically for doing statistical analyses, however they turn out to be very useful when combining data from multiple sources. All right! Let’s finish off with machine learning. When it comes to machine learning, we often deal with big data'),\n",
       " Document(metadata={'Lecture Title': 'Programming Languages & Software Employed in Data Science - All the Tools You Need', 'course Title': 'Introduction_to_Data_and_Data_Science'}, page_content='Thus, we need a lot of computational power, and we can expect people to use the languages similar to those in the big data column. Apart from R, Python, and MATLAB, other, faster languages are used like Java, JavaScript, C, C++, and Scala. Cool. What we said may be wonderful, but that’s not all! By using one or more programming languages, people create application software or, as they are sometimes called, software solutions, that are adjusted for specific business needs'),\n",
       " Document(metadata={'Lecture Title': 'Programming Languages & Software Employed in Data Science - All the Tools You Need', 'course Title': 'Introduction_to_Data_and_Data_Science'}, page_content='As you can see from the infographic, R, and Python are the two most popular tools across all columns. Their biggest advantage is that they can manipulate data and are integrated within multiple data and data science software platforms. They are not just suitable for mathematical and statistical computations. In other words, R, and Python are adaptable. They can solve a wide variety of business and data-related problems from beginning to the end'),\n",
       " Document(metadata={'Lecture Title': 'Programming Languages & Software Employed in Data Science - All the Tools You Need', 'course Title': 'Introduction_to_Data_and_Data_Science'}, page_content='Alright! So… How are the techniques used in data, business intelligence, or predictive analytics applied in real life? Certainly, with the help of computers. You can basically split the relevant tools into two categories—programming languages and software. Knowing a programming language enables you to devise programs that can execute specific operations. Moreover, you can reuse these programs whenever you need to execute the same action'),\n",
       " Document(metadata={'Lecture Title': 'Programming Languages & Software Employed in Data Science - All the Tools You Need', 'course Title': 'Introduction_to_Data_and_Data_Science'}, page_content='More importantly, it will be sufficient for your need to create quick and accurate analyses. However, if your theoretical preparation is strong enough, you will find yourself restricted by software. Knowing a programming language such as R and Python, gives you the freedom to create specific, ad-hoc tools for each project you are working on')]"
      ]
     },
     "execution_count": 49,
     "metadata": {},
     "output_type": "execute_result"
    }
   ],
   "source": [
    "#similarity search\n",
    "\n",
    "question=\"What programming languages data scientists use?\"\n",
    "\n",
    "retrieve_documnets=vectorestore_from_directory.similarity_search(query=question,k=5)\n",
    "\n",
    "retrieve_documnets"
   ]
  },
  {
   "cell_type": "code",
   "execution_count": 51,
   "id": "da041b4e-cbce-4999-849e-0092b82a4cb4",
   "metadata": {},
   "outputs": [],
   "source": [
    "#maximum marginal relevance search - MMR Search\n",
    "question=\"What software data scientists use?\""
   ]
  },
  {
   "cell_type": "code",
   "execution_count": 53,
   "id": "cbbf5985-92c4-421b-b52d-abba6b06dd63",
   "metadata": {},
   "outputs": [
    {
     "data": {
      "text/plain": [
       "[Document(metadata={'Lecture Title': 'Programming Languages & Software Employed in Data Science - All the Tools You Need', 'course Title': 'Introduction_to_Data_and_Data_Science'}, page_content='As you can see from the infographic, R, and Python are the two most popular tools across all columns. Their biggest advantage is that they can manipulate data and are integrated within multiple data and data science software platforms. They are not just suitable for mathematical and statistical computations. In other words, R, and Python are adaptable. They can solve a wide variety of business and data-related problems from beginning to the end'),\n",
       " Document(metadata={'Lecture Title': 'Programming Languages & Software Employed in Data Science - All the Tools You Need', 'course Title': 'Introduction_to_Data_and_Data_Science'}, page_content='Alright! So… How are the techniques used in data, business intelligence, or predictive analytics applied in real life? Certainly, with the help of computers. You can basically split the relevant tools into two categories—programming languages and software. Knowing a programming language enables you to devise programs that can execute specific operations. Moreover, you can reuse these programs whenever you need to execute the same action'),\n",
       " Document(metadata={'Lecture Title': 'Programming Languages & Software Employed in Data Science - All the Tools You Need', 'course Title': 'Introduction_to_Data_and_Data_Science'}, page_content='What about big data? Apart from R and Python, people working in this area are often proficient in other languages like Java or Scala. These two have not been developed specifically for doing statistical analyses, however they turn out to be very useful when combining data from multiple sources. All right! Let’s finish off with machine learning. When it comes to machine learning, we often deal with big data')]"
      ]
     },
     "execution_count": 53,
     "metadata": {},
     "output_type": "execute_result"
    }
   ],
   "source": [
    "retrieve_documnets=vectorestore_from_directory.similarity_search(query=question,k=3)\n",
    "\n",
    "retrieve_documnets\n",
    "#not very helpful"
   ]
  },
  {
   "cell_type": "code",
   "execution_count": 55,
   "id": "2d503066-07c3-4b63-a271-381c12d2ae12",
   "metadata": {},
   "outputs": [
    {
     "data": {
      "text/plain": [
       "[Document(metadata={'Lecture Title': 'Programming Languages & Software Employed in Data Science - All the Tools You Need', 'course Title': 'Introduction_to_Data_and_Data_Science'}, page_content='As you can see from the infographic, R, and Python are the two most popular tools across all columns. Their biggest advantage is that they can manipulate data and are integrated within multiple data and data science software platforms. They are not just suitable for mathematical and statistical computations. In other words, R, and Python are adaptable. They can solve a wide variety of business and data-related problems from beginning to the end'),\n",
       " Document(metadata={'Lecture Title': 'Programming Languages & Software Employed in Data Science - All the Tools You Need', 'course Title': 'Introduction_to_Data_and_Data_Science'}, page_content='Great! We hope we gave you a good idea about the level of applicability of the most frequently used programming and software tools in the field of data science. Thank you for watching!'),\n",
       " Document(metadata={'Lecture Title': 'Analysis vs Analytics', 'course Title': 'Introduction_to_Data_and_Data_Science'}, page_content='Such as using an analysis to explain how a story ended the way it did or how there was a decrease in sales last summer. All this means that we do analyses to explain how and/or why something happened. Great! Now, this leads us nicely on to the definition of analytics. As you have probably guessed, analytics generally refers to the future. Instead of explaining past events it explores potential future ones')]"
      ]
     },
     "execution_count": 55,
     "metadata": {},
     "output_type": "execute_result"
    }
   ],
   "source": [
    "retrieve_documnets=vectorestore_from_directory.max_marginal_relevance_search(query=question,k=3,lambda_mult=0.1)\n",
    "\n",
    "retrieve_documnets"
   ]
  },
  {
   "cell_type": "code",
   "execution_count": 57,
   "id": "217c4852-fca2-45a1-ab66-3ab54ca7f25c",
   "metadata": {},
   "outputs": [
    {
     "data": {
      "text/plain": [
       "[Document(metadata={'Lecture Title': 'Programming Languages & Software Employed in Data Science - All the Tools You Need', 'course Title': 'Introduction_to_Data_and_Data_Science'}, page_content='As you can see from the infographic, R, and Python are the two most popular tools across all columns. Their biggest advantage is that they can manipulate data and are integrated within multiple data and data science software platforms. They are not just suitable for mathematical and statistical computations. In other words, R, and Python are adaptable. They can solve a wide variety of business and data-related problems from beginning to the end'),\n",
       " Document(metadata={'Lecture Title': 'Programming Languages & Software Employed in Data Science - All the Tools You Need', 'course Title': 'Introduction_to_Data_and_Data_Science'}, page_content='Among the many applications we have plotted, we can say there is an increasing amount of software designed for working with big data such as Apache Hadoop, Apache Hbase, and Mongo DB. In terms of big data, Hadoop is the name that must stick with you. Hadoop is listed as a software in the sense that it is a collection of programs, but don’t imagine it as a nice-looking application'),\n",
       " Document(metadata={'Lecture Title': 'Programming Languages & Software Employed in Data Science - All the Tools You Need', 'course Title': 'Introduction_to_Data_and_Data_Science'}, page_content='Great! We hope we gave you a good idea about the level of applicability of the most frequently used programming and software tools in the field of data science. Thank you for watching!')]"
      ]
     },
     "execution_count": 57,
     "metadata": {},
     "output_type": "execute_result"
    }
   ],
   "source": [
    "retrieve_documnets=vectorestore_from_directory.max_marginal_relevance_search(query=question,\n",
    "                                                                             k=3,\n",
    "                                                                             lambda_mult=0.1,\n",
    "                                                                            filter={'Lecture Title':'Programming Languages & Software Employed in Data Science - All the Tools You Need'}\n",
    "                                                                            )\n",
    "\n",
    "retrieve_documnets"
   ]
  },
  {
   "cell_type": "code",
   "execution_count": 58,
   "id": "ac90327c-d748-4284-9634-c4d666473b1d",
   "metadata": {},
   "outputs": [
    {
     "data": {
      "text/plain": [
       "[Document(metadata={'Lecture Title': 'Programming Languages & Software Employed in Data Science - All the Tools You Need', 'course Title': 'Introduction_to_Data_and_Data_Science'}, page_content='As you can see from the infographic, R, and Python are the two most popular tools across all columns. Their biggest advantage is that they can manipulate data and are integrated within multiple data and data science software platforms. They are not just suitable for mathematical and statistical computations. In other words, R, and Python are adaptable. They can solve a wide variety of business and data-related problems from beginning to the end'),\n",
       " Document(metadata={'Lecture Title': 'Programming Languages & Software Employed in Data Science - All the Tools You Need', 'course Title': 'Introduction_to_Data_and_Data_Science'}, page_content='It’s actually a software framework which was designed to address the complexity of big data and its computational intensity. Most notably, Hadoop distributes the computational tasks on multiple computers which is basically the way to handle big data nowadays. Power BI, SaS, Qlik, and especially Tableau are top-notch examples of software designed for business intelligence visualizations'),\n",
       " Document(metadata={'Lecture Title': 'Programming Languages & Software Employed in Data Science - All the Tools You Need', 'course Title': 'Introduction_to_Data_and_Data_Science'}, page_content='Great! We hope we gave you a good idea about the level of applicability of the most frequently used programming and software tools in the field of data science. Thank you for watching!')]"
      ]
     },
     "execution_count": 58,
     "metadata": {},
     "output_type": "execute_result"
    }
   ],
   "source": [
    "retrieve_documnets=vectorestore_from_directory.max_marginal_relevance_search(query=question,\n",
    "                                                                             k=3,\n",
    "                                                                             lambda_mult=0.7,\n",
    "                                                                            filter={'Lecture Title':'Programming Languages & Software Employed in Data Science - All the Tools You Need'}\n",
    "                                                                            )\n",
    "\n",
    "retrieve_documnets"
   ]
  },
  {
   "cell_type": "code",
   "execution_count": 59,
   "id": "1337952a-d50e-4bf5-8d54-9beaa3fed8cb",
   "metadata": {},
   "outputs": [
    {
     "data": {
      "text/plain": [
       "[Document(metadata={'Lecture Title': 'Programming Languages & Software Employed in Data Science - All the Tools You Need', 'course Title': 'Introduction_to_Data_and_Data_Science'}, page_content='As you can see from the infographic, R, and Python are the two most popular tools across all columns. Their biggest advantage is that they can manipulate data and are integrated within multiple data and data science software platforms. They are not just suitable for mathematical and statistical computations. In other words, R, and Python are adaptable. They can solve a wide variety of business and data-related problems from beginning to the end'),\n",
       " Document(metadata={'Lecture Title': 'Programming Languages & Software Employed in Data Science - All the Tools You Need', 'course Title': 'Introduction_to_Data_and_Data_Science'}, page_content='Alright! So… How are the techniques used in data, business intelligence, or predictive analytics applied in real life? Certainly, with the help of computers. You can basically split the relevant tools into two categories—programming languages and software. Knowing a programming language enables you to devise programs that can execute specific operations. Moreover, you can reuse these programs whenever you need to execute the same action'),\n",
       " Document(metadata={'Lecture Title': 'Programming Languages & Software Employed in Data Science - All the Tools You Need', 'course Title': 'Introduction_to_Data_and_Data_Science'}, page_content='What about big data? Apart from R and Python, people working in this area are often proficient in other languages like Java or Scala. These two have not been developed specifically for doing statistical analyses, however they turn out to be very useful when combining data from multiple sources. All right! Let’s finish off with machine learning. When it comes to machine learning, we often deal with big data')]"
      ]
     },
     "execution_count": 59,
     "metadata": {},
     "output_type": "execute_result"
    }
   ],
   "source": [
    "retrieve_documnets=vectorestore_from_directory.max_marginal_relevance_search(query=question,\n",
    "                                                                             k=3,\n",
    "                                                                             lambda_mult=1,\n",
    "                                                                            filter={'Lecture Title':'Programming Languages & Software Employed in Data Science - All the Tools You Need'}\n",
    "                                                                            )\n",
    "\n",
    "retrieve_documnets"
   ]
  },
  {
   "cell_type": "code",
   "execution_count": 60,
   "id": "e9e52149-3613-4390-a5c3-0fa5c5a2665a",
   "metadata": {},
   "outputs": [],
   "source": [
    "retriever=vectorestore_from_directory.as_retriever(search_type='mmr',\n",
    "                                                   search_kargs={'k':3,'lambda_mult':0.7})"
   ]
  },
  {
   "cell_type": "code",
   "execution_count": 61,
   "id": "5c7d964d-403a-44bb-b05f-c9933bcbbb71",
   "metadata": {},
   "outputs": [],
   "source": [
    "retrieve_docs=retriever.invoke(question)"
   ]
  },
  {
   "cell_type": "code",
   "execution_count": 62,
   "id": "1c444962-5fec-4dae-90fa-f17a626191f2",
   "metadata": {},
   "outputs": [
    {
     "data": {
      "text/plain": [
       "[Document(metadata={'Lecture Title': 'Programming Languages & Software Employed in Data Science - All the Tools You Need', 'course Title': 'Introduction_to_Data_and_Data_Science'}, page_content='As you can see from the infographic, R, and Python are the two most popular tools across all columns. Their biggest advantage is that they can manipulate data and are integrated within multiple data and data science software platforms. They are not just suitable for mathematical and statistical computations. In other words, R, and Python are adaptable. They can solve a wide variety of business and data-related problems from beginning to the end'),\n",
       " Document(metadata={'Lecture Title': 'Programming Languages & Software Employed in Data Science - All the Tools You Need', 'course Title': 'Introduction_to_Data_and_Data_Science'}, page_content='Among the many applications we have plotted, we can say there is an increasing amount of software designed for working with big data such as Apache Hadoop, Apache Hbase, and Mongo DB. In terms of big data, Hadoop is the name that must stick with you. Hadoop is listed as a software in the sense that it is a collection of programs, but don’t imagine it as a nice-looking application'),\n",
       " Document(metadata={'Lecture Title': 'Programming Languages & Software Employed in Data Science - All the Tools You Need', 'course Title': 'Introduction_to_Data_and_Data_Science'}, page_content='Great! We hope we gave you a good idea about the level of applicability of the most frequently used programming and software tools in the field of data science. Thank you for watching!'),\n",
       " Document(metadata={'Lecture Title': 'Analysis vs Analytics', 'course Title': 'Introduction_to_Data_and_Data_Science'}, page_content='You may use this intuition to decide on which styles of clothing to start selling. This would be qualitative analytics. But you might not know when to introduce the new collection. In that case, relying on past sales data and user experience data, you could predict in which month it would be best to do that. This is an example of using quantitative analytics')]"
      ]
     },
     "execution_count": 62,
     "metadata": {},
     "output_type": "execute_result"
    }
   ],
   "source": [
    "retrieve_docs"
   ]
  },
  {
   "cell_type": "markdown",
   "id": "241e438d-2777-47c6-825f-a7c3114880f2",
   "metadata": {},
   "source": [
    "#### Generation"
   ]
  },
  {
   "cell_type": "code",
   "execution_count": 87,
   "id": "b155851d-aef2-40e2-84ab-4ef3b9ecae5c",
   "metadata": {},
   "outputs": [],
   "source": [
    "from langchain_openai.embeddings import OpenAIEmbeddings\n",
    "from langchain_community.vectorstores import Chroma\n",
    "from langchain_core.prompts import PromptTemplate\n",
    "from langchain_openai import ChatOpenAI\n",
    "from langchain_core.runnables import RunnablePassthrough,RunnableParallel\n",
    "from langchain_core.output_parsers import StrOutputParser"
   ]
  },
  {
   "cell_type": "code",
   "execution_count": 71,
   "id": "ff668c3e-a608-4384-817d-c785d2424351",
   "metadata": {},
   "outputs": [],
   "source": [
    "vectorestore=Chroma(embedding_function=OpenAIEmbeddings(model='text-embedding-ada-002'),\n",
    "                                    persist_directory=\"./vector_Store\")"
   ]
  },
  {
   "cell_type": "code",
   "execution_count": 72,
   "id": "c7d353d7-ebf2-4d00-bc6e-9ed951f98452",
   "metadata": {},
   "outputs": [],
   "source": [
    "retriever=vectorestore.as_retriever(search_type='mmr',\n",
    "                                                   search_kargs={'k':3,'lambda_mult':0.7})"
   ]
  },
  {
   "cell_type": "code",
   "execution_count": 74,
   "id": "b3c59e78-e562-4821-bcf1-5548c98035a1",
   "metadata": {},
   "outputs": [],
   "source": [
    "TEMPLATE='''\n",
    "Answer the following question:\n",
    "{question}\n",
    "\n",
    "To answer the question, use only the following context:\n",
    "{context}\n",
    "\n",
    "At the end f the response , specify the name of the lecture this context is taken from in format:\n",
    "Resources: *lecture Title*\n",
    "Where *lecture Title* should be substituted with the title of all resource lectures.\n",
    "'''\n",
    "prompt_template=PromptTemplate.from_template(TEMPLATE)"
   ]
  },
  {
   "cell_type": "code",
   "execution_count": 75,
   "id": "f0929c97-9023-4a51-a2de-0ec3cdc00e26",
   "metadata": {},
   "outputs": [
    {
     "name": "stderr",
     "output_type": "stream",
     "text": [
      "D:\\Software\\Anaconda\\envs\\langchain_env\\lib\\site-packages\\IPython\\core\\interactiveshell.py:3517: UserWarning: Parameters {'seed'} should be specified explicitly. Instead they were passed in as part of `model_kwargs` parameter.\n",
      "  if await self.run_code(code, result, async_=asy):\n"
     ]
    }
   ],
   "source": [
    "chat=ChatOpenAI(model_name='gpt-4',model_kwargs={'seed':365},temperature=0,max_tokens=300)"
   ]
  },
  {
   "cell_type": "code",
   "execution_count": 76,
   "id": "9705546b-7b58-46b6-bdd0-9dee1fa95036",
   "metadata": {},
   "outputs": [],
   "source": [
    "question=\"what software does datascientist use?\""
   ]
  },
  {
   "cell_type": "code",
   "execution_count": 77,
   "id": "2ce12291-970a-4fe2-bd33-e25a9239efe8",
   "metadata": {},
   "outputs": [],
   "source": [
    "chain= RunnableParallel({'context':retriever,'question':RunnablePassthrough()})"
   ]
  },
  {
   "cell_type": "code",
   "execution_count": 78,
   "id": "8e594fe6-6461-46b7-9308-8720d10b2e27",
   "metadata": {},
   "outputs": [
    {
     "data": {
      "text/plain": [
       "{'context': [Document(metadata={'Lecture Title': 'Programming Languages & Software Employed in Data Science - All the Tools You Need', 'course Title': 'Introduction_to_Data_and_Data_Science'}, page_content='It’s actually a software framework which was designed to address the complexity of big data and its computational intensity. Most notably, Hadoop distributes the computational tasks on multiple computers which is basically the way to handle big data nowadays. Power BI, SaS, Qlik, and especially Tableau are top-notch examples of software designed for business intelligence visualizations'),\n",
       "  Document(metadata={'Lecture Title': 'Programming Languages & Software Employed in Data Science - All the Tools You Need', 'course Title': 'Introduction_to_Data_and_Data_Science'}, page_content='Great! We hope we gave you a good idea about the level of applicability of the most frequently used programming and software tools in the field of data science. Thank you for watching!'),\n",
       "  Document(metadata={'Lecture Title': 'Programming Languages & Software Employed in Data Science - All the Tools You Need', 'course Title': 'Introduction_to_Data_and_Data_Science'}, page_content='As you can see from the infographic, R, and Python are the two most popular tools across all columns. Their biggest advantage is that they can manipulate data and are integrated within multiple data and data science software platforms. They are not just suitable for mathematical and statistical computations. In other words, R, and Python are adaptable. They can solve a wide variety of business and data-related problems from beginning to the end'),\n",
       "  Document(metadata={'Lecture Title': 'Analysis vs Analytics', 'course Title': 'Introduction_to_Data_and_Data_Science'}, page_content='You may use this intuition to decide on which styles of clothing to start selling. This would be qualitative analytics. But you might not know when to introduce the new collection. In that case, relying on past sales data and user experience data, you could predict in which month it would be best to do that. This is an example of using quantitative analytics')],\n",
       " 'question': 'what software does datascientist use?'}"
      ]
     },
     "execution_count": 78,
     "metadata": {},
     "output_type": "execute_result"
    }
   ],
   "source": [
    "chain.invoke(question)"
   ]
  },
  {
   "cell_type": "code",
   "execution_count": 80,
   "id": "1cd42f20-274e-475b-9745-0f527d3a641d",
   "metadata": {},
   "outputs": [],
   "source": [
    "chain= {'context':retriever,'question':RunnablePassthrough()}|prompt_template"
   ]
  },
  {
   "cell_type": "code",
   "execution_count": 81,
   "id": "c366f996-7fac-4e9d-90bb-0c17e61b2d5a",
   "metadata": {},
   "outputs": [
    {
     "data": {
      "text/plain": [
       "StringPromptValue(text=\"\\nAnswer the following question:\\nwhat software does datascientist use?\\n\\nTo answer the question, use only the following context:\\n[Document(metadata={'Lecture Title': 'Programming Languages & Software Employed in Data Science - All the Tools You Need', 'course Title': 'Introduction_to_Data_and_Data_Science'}, page_content='It’s actually a software framework which was designed to address the complexity of big data and its computational intensity. Most notably, Hadoop distributes the computational tasks on multiple computers which is basically the way to handle big data nowadays. Power BI, SaS, Qlik, and especially Tableau are top-notch examples of software designed for business intelligence visualizations'), Document(metadata={'Lecture Title': 'Programming Languages & Software Employed in Data Science - All the Tools You Need', 'course Title': 'Introduction_to_Data_and_Data_Science'}, page_content='Great! We hope we gave you a good idea about the level of applicability of the most frequently used programming and software tools in the field of data science. Thank you for watching!'), Document(metadata={'Lecture Title': 'Programming Languages & Software Employed in Data Science - All the Tools You Need', 'course Title': 'Introduction_to_Data_and_Data_Science'}, page_content='As you can see from the infographic, R, and Python are the two most popular tools across all columns. Their biggest advantage is that they can manipulate data and are integrated within multiple data and data science software platforms. They are not just suitable for mathematical and statistical computations. In other words, R, and Python are adaptable. They can solve a wide variety of business and data-related problems from beginning to the end'), Document(metadata={'Lecture Title': 'Analysis vs Analytics', 'course Title': 'Introduction_to_Data_and_Data_Science'}, page_content='You may use this intuition to decide on which styles of clothing to start selling. This would be qualitative analytics. But you might not know when to introduce the new collection. In that case, relying on past sales data and user experience data, you could predict in which month it would be best to do that. This is an example of using quantitative analytics')]\\n\\nAt the end f the response , specify the name of the lecture this context is taken from in format:\\nResources: *lecture Title*\\nWhere *lecture Title* should be substituted with the title of all resource lectures.\\n\")"
      ]
     },
     "execution_count": 81,
     "metadata": {},
     "output_type": "execute_result"
    }
   ],
   "source": [
    "chain.invoke(question)"
   ]
  },
  {
   "cell_type": "code",
   "execution_count": 82,
   "id": "cbd265f6-ab02-4b96-9be9-1803a4fb27b3",
   "metadata": {},
   "outputs": [],
   "source": [
    "chain= ({'context':retriever,'question':RunnablePassthrough()}|prompt_template|chat)"
   ]
  },
  {
   "cell_type": "code",
   "execution_count": 83,
   "id": "39440452-7dc0-4060-84f0-9d484119bc8b",
   "metadata": {},
   "outputs": [
    {
     "data": {
      "text/plain": [
       "AIMessage(content=\"Data scientists use a variety of software and programming languages. Hadoop is a software framework designed to handle the complexity and computational intensity of big data by distributing computational tasks on multiple computers. Other software tools used for business intelligence visualizations include Power BI, SaS, Qlik, and Tableau. In terms of programming languages, R and Python are the most popular tools in the field of data science. They are capable of manipulating data and are integrated within multiple data and data science software platforms. They are adaptable and can solve a wide variety of business and data-related problems.\\n\\nResources: 'Programming Languages & Software Employed in Data Science - All the Tools You Need', 'Analysis vs Analytics'\", additional_kwargs={'refusal': None}, response_metadata={'token_usage': {'completion_tokens': 138, 'prompt_tokens': 492, 'total_tokens': 630, 'completion_tokens_details': {'accepted_prediction_tokens': 0, 'audio_tokens': 0, 'reasoning_tokens': 0, 'rejected_prediction_tokens': 0}, 'prompt_tokens_details': {'audio_tokens': 0, 'cached_tokens': 0}}, 'model_name': 'gpt-4-0613', 'system_fingerprint': None, 'finish_reason': 'stop', 'logprobs': None}, id='run-375b97df-39fe-4a5c-88b1-5fe7b06bfea2-0', usage_metadata={'input_tokens': 492, 'output_tokens': 138, 'total_tokens': 630, 'input_token_details': {'audio': 0, 'cache_read': 0}, 'output_token_details': {'audio': 0, 'reasoning': 0}})"
      ]
     },
     "execution_count": 83,
     "metadata": {},
     "output_type": "execute_result"
    }
   ],
   "source": [
    "chain.invoke(question)"
   ]
  },
  {
   "cell_type": "code",
   "execution_count": 89,
   "id": "7c56be4d-3683-4637-b576-59b1403838ac",
   "metadata": {},
   "outputs": [],
   "source": [
    "chain= ({'context':retriever,'question':RunnablePassthrough()}\n",
    "        |prompt_template\n",
    "        |chat\n",
    "        | StrOutputParser())"
   ]
  },
  {
   "cell_type": "code",
   "execution_count": 91,
   "id": "8661594d-b972-4fb4-85f8-26cac42e3a4f",
   "metadata": {},
   "outputs": [
    {
     "name": "stdout",
     "output_type": "stream",
     "text": [
      "Data scientists use a variety of software for their work. This includes Hadoop, a software framework designed to handle the complexity and computational intensity of big data by distributing computational tasks on multiple computers. Other software used by data scientists for business intelligence visualizations include Power BI, SaS, Qlik, and Tableau. Additionally, R and Python are popular tools in the field of data science due to their ability to manipulate data and their integration within multiple data and data science software platforms. They are adaptable and can solve a wide variety of business and data-related problems.\n",
      "\n",
      "Resources: 'Programming Languages & Software Employed in Data Science - All the Tools You Need', 'Analysis vs Analytics'\n"
     ]
    }
   ],
   "source": [
    "print(chain.invoke(question))"
   ]
  },
  {
   "cell_type": "code",
   "execution_count": null,
   "id": "a7e105c7-c183-41dc-9210-178098d9ea58",
   "metadata": {},
   "outputs": [],
   "source": []
  },
  {
   "cell_type": "code",
   "execution_count": null,
   "id": "c407b9c4-4146-4f7c-ba08-e8331e3c1b3e",
   "metadata": {},
   "outputs": [],
   "source": []
  },
  {
   "cell_type": "code",
   "execution_count": null,
   "id": "64a66692-f1cf-4d1d-9e25-b13276059dbe",
   "metadata": {},
   "outputs": [],
   "source": []
  },
  {
   "cell_type": "code",
   "execution_count": null,
   "id": "6c2eed1d-9d96-4936-8720-763408e049e2",
   "metadata": {},
   "outputs": [],
   "source": []
  },
  {
   "cell_type": "code",
   "execution_count": null,
   "id": "44801db7-c407-4f8a-9dc9-bef4f87a8cb3",
   "metadata": {},
   "outputs": [],
   "source": []
  },
  {
   "cell_type": "code",
   "execution_count": null,
   "id": "1e9f4316-071e-457c-bab9-de7aba8dc70c",
   "metadata": {},
   "outputs": [],
   "source": []
  },
  {
   "cell_type": "code",
   "execution_count": null,
   "id": "27f1da31-d567-4b5c-b925-0c2f864af642",
   "metadata": {},
   "outputs": [],
   "source": []
  },
  {
   "cell_type": "code",
   "execution_count": null,
   "id": "40be6011-6e15-469e-a74c-16962633dfe3",
   "metadata": {},
   "outputs": [],
   "source": []
  },
  {
   "cell_type": "code",
   "execution_count": null,
   "id": "0b8c1ee1-1191-4480-b42c-a368c79bf421",
   "metadata": {},
   "outputs": [],
   "source": []
  }
 ],
 "metadata": {
  "kernelspec": {
   "display_name": "langchain_env",
   "language": "python",
   "name": "langchain_env"
  },
  "language_info": {
   "codemirror_mode": {
    "name": "ipython",
    "version": 3
   },
   "file_extension": ".py",
   "mimetype": "text/x-python",
   "name": "python",
   "nbconvert_exporter": "python",
   "pygments_lexer": "ipython3",
   "version": "3.10.10"
  }
 },
 "nbformat": 4,
 "nbformat_minor": 5
}
